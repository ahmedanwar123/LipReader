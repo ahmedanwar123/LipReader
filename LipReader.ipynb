{
  "cells": [
    {
      "cell_type": "markdown",
      "id": "a3573a47-3689-4668-b62f-5c8451b2b4e9",
      "metadata": {
        "id": "a3573a47-3689-4668-b62f-5c8451b2b4e9",
        "tags": []
      },
      "source": [
        "# 0. Install and Import Dependencies"
      ]
    },
    {
      "cell_type": "code",
      "execution_count": 1,
      "id": "ddfbccbe-41ae-4c23-98b1-a13868e2b499",
      "metadata": {
        "colab": {
          "base_uri": "https://localhost:8080/"
        },
        "id": "ddfbccbe-41ae-4c23-98b1-a13868e2b499",
        "outputId": "95017aef-1282-4217-e6ca-4b16bb48df66",
        "scrolled": true,
        "tags": []
      },
      "outputs": [
        {
          "name": "stdout",
          "output_type": "stream",
          "text": [
            "Package                          Version\n",
            "-------------------------------- ---------------------\n",
            "absl-py                          1.4.0\n",
            "aiohttp                          3.9.3\n",
            "aiosignal                        1.3.1\n",
            "alabaster                        0.7.16\n",
            "albumentations                   1.3.1\n",
            "altair                           4.2.2\n",
            "annotated-types                  0.6.0\n",
            "anyio                            3.7.1\n",
            "appdirs                          1.4.4\n",
            "argon2-cffi                      23.1.0\n",
            "argon2-cffi-bindings             21.2.0\n",
            "array-record                     0.5.0\n",
            "arviz                            0.15.1\n",
            "astropy                          5.3.4\n",
            "astunparse                       1.6.3\n",
            "async-timeout                    4.0.3\n",
            "atpublic                         4.0\n",
            "attrs                            23.2.0\n",
            "audioread                        3.0.1\n",
            "autograd                         1.6.2\n",
            "Babel                            2.14.0\n",
            "backcall                         0.2.0\n",
            "beautifulsoup4                   4.12.3\n",
            "bidict                           0.22.1\n",
            "bigframes                        0.20.1\n",
            "bleach                           6.1.0\n",
            "blinker                          1.4\n",
            "blis                             0.7.11\n",
            "blosc2                           2.0.0\n",
            "bokeh                            3.3.4\n",
            "bqplot                           0.12.42\n",
            "branca                           0.7.1\n",
            "build                            1.0.3\n",
            "CacheControl                     0.14.0\n",
            "cachetools                       5.3.2\n",
            "catalogue                        2.0.10\n",
            "certifi                          2024.2.2\n",
            "cffi                             1.16.0\n",
            "chardet                          5.2.0\n",
            "charset-normalizer               3.3.2\n",
            "chex                             0.1.85\n",
            "click                            8.1.7\n",
            "click-plugins                    1.1.1\n",
            "cligj                            0.7.2\n",
            "cloudpathlib                     0.16.0\n",
            "cloudpickle                      2.2.1\n",
            "cmake                            3.27.9\n",
            "cmdstanpy                        1.2.1\n",
            "colorcet                         3.0.1\n",
            "colorlover                       0.3.0\n",
            "colour                           0.1.5\n",
            "community                        1.0.0b1\n",
            "confection                       0.1.4\n",
            "cons                             0.4.6\n",
            "contextlib2                      21.6.0\n",
            "contourpy                        1.2.0\n",
            "cryptography                     42.0.2\n",
            "cufflinks                        0.17.3\n",
            "cupy-cuda12x                     12.2.0\n",
            "cvxopt                           1.3.2\n",
            "cvxpy                            1.3.3\n",
            "cycler                           0.12.1\n",
            "cymem                            2.0.8\n",
            "Cython                           3.0.8\n",
            "dask                             2023.8.1\n",
            "datascience                      0.17.6\n",
            "db-dtypes                        1.2.0\n",
            "dbus-python                      1.2.18\n",
            "debugpy                          1.6.6\n",
            "decorator                        4.4.2\n",
            "defusedxml                       0.7.1\n",
            "diskcache                        5.6.3\n",
            "distributed                      2023.8.1\n",
            "distro                           1.7.0\n",
            "dlib                             19.24.2\n",
            "dm-tree                          0.1.8\n",
            "docutils                         0.18.1\n",
            "dopamine-rl                      4.0.6\n",
            "duckdb                           0.9.2\n",
            "earthengine-api                  0.1.389\n",
            "easydict                         1.12\n",
            "ecos                             2.0.13\n",
            "editdistance                     0.6.2\n",
            "eerepr                           0.0.4\n",
            "en-core-web-sm                   3.7.1\n",
            "entrypoints                      0.4\n",
            "et-xmlfile                       1.1.0\n",
            "etils                            1.6.0\n",
            "etuples                          0.3.9\n",
            "exceptiongroup                   1.2.0\n",
            "fastai                           2.7.14\n",
            "fastcore                         1.5.29\n",
            "fastdownload                     0.0.7\n",
            "fastjsonschema                   2.19.1\n",
            "fastprogress                     1.0.3\n",
            "fastrlock                        0.8.2\n",
            "filelock                         3.13.1\n",
            "fiona                            1.9.5\n",
            "firebase-admin                   5.3.0\n",
            "Flask                            2.2.5\n",
            "flatbuffers                      23.5.26\n",
            "flax                             0.8.1\n",
            "folium                           0.14.0\n",
            "fonttools                        4.48.1\n",
            "frozendict                       2.4.0\n",
            "frozenlist                       1.4.1\n",
            "fsspec                           2023.6.0\n",
            "future                           0.18.3\n",
            "gast                             0.5.4\n",
            "gcsfs                            2023.6.0\n",
            "GDAL                             3.6.4\n",
            "gdown                            4.7.3\n",
            "geemap                           0.30.4\n",
            "gensim                           4.3.2\n",
            "geocoder                         1.38.1\n",
            "geographiclib                    2.0\n",
            "geopandas                        0.13.2\n",
            "geopy                            2.3.0\n",
            "gin-config                       0.5.0\n",
            "glob2                            0.7\n",
            "google                           2.0.3\n",
            "google-ai-generativelanguage     0.4.0\n",
            "google-api-core                  2.11.1\n",
            "google-api-python-client         2.84.0\n",
            "google-auth                      2.27.0\n",
            "google-auth-httplib2             0.1.1\n",
            "google-auth-oauthlib             1.2.0\n",
            "google-cloud-aiplatform          1.39.0\n",
            "google-cloud-bigquery            3.12.0\n",
            "google-cloud-bigquery-connection 1.12.1\n",
            "google-cloud-bigquery-storage    2.24.0\n",
            "google-cloud-core                2.3.3\n",
            "google-cloud-datastore           2.15.2\n",
            "google-cloud-firestore           2.11.1\n",
            "google-cloud-functions           1.13.3\n",
            "google-cloud-iam                 2.14.1\n",
            "google-cloud-language            2.9.1\n",
            "google-cloud-resource-manager    1.12.1\n",
            "google-cloud-storage             2.8.0\n",
            "google-cloud-translate           3.11.3\n",
            "google-colab                     1.0.0\n",
            "google-crc32c                    1.5.0\n",
            "google-generativeai              0.3.2\n",
            "google-pasta                     0.2.0\n",
            "google-resumable-media           2.7.0\n",
            "googleapis-common-protos         1.62.0\n",
            "googledrivedownloader            0.4\n",
            "graphviz                         0.20.1\n",
            "greenlet                         3.0.3\n",
            "grpc-google-iam-v1               0.13.0\n",
            "grpcio                           1.60.1\n",
            "grpcio-status                    1.48.2\n",
            "gspread                          3.4.2\n",
            "gspread-dataframe                3.3.1\n",
            "gym                              0.25.2\n",
            "gym-notices                      0.0.8\n",
            "h5netcdf                         1.3.0\n",
            "h5py                             3.9.0\n",
            "holidays                         0.42\n",
            "holoviews                        1.17.1\n",
            "html5lib                         1.1\n",
            "httpimport                       1.3.1\n",
            "httplib2                         0.22.0\n",
            "huggingface-hub                  0.20.3\n",
            "humanize                         4.7.0\n",
            "hyperopt                         0.2.7\n",
            "ibis-framework                   7.1.0\n",
            "idna                             3.6\n",
            "imageio                          2.31.6\n",
            "imageio-ffmpeg                   0.4.9\n",
            "imagesize                        1.4.1\n",
            "imbalanced-learn                 0.10.1\n",
            "imgaug                           0.4.0\n",
            "importlib-metadata               7.0.1\n",
            "importlib-resources              6.1.1\n",
            "imutils                          0.5.4\n",
            "inflect                          7.0.0\n",
            "iniconfig                        2.0.0\n",
            "install                          1.3.5\n",
            "intel-openmp                     2023.2.3\n",
            "ipyevents                        2.0.2\n",
            "ipyfilechooser                   0.6.0\n",
            "ipykernel                        5.5.6\n",
            "ipyleaflet                       0.18.2\n",
            "ipython                          7.34.0\n",
            "ipython-genutils                 0.2.0\n",
            "ipython-sql                      0.5.0\n",
            "ipytree                          0.2.2\n",
            "ipywidgets                       7.7.1\n",
            "itsdangerous                     2.1.2\n",
            "jax                              0.4.23\n",
            "jaxlib                           0.4.23+cuda12.cudnn89\n",
            "jeepney                          0.7.1\n",
            "jieba                            0.42.1\n",
            "Jinja2                           3.1.3\n",
            "joblib                           1.3.2\n",
            "jsonpickle                       3.0.2\n",
            "jsonschema                       4.19.2\n",
            "jsonschema-specifications        2023.12.1\n",
            "jupyter-client                   6.1.12\n",
            "jupyter-console                  6.1.0\n",
            "jupyter_core                     5.7.1\n",
            "jupyter-server                   1.24.0\n",
            "jupyterlab_pygments              0.3.0\n",
            "jupyterlab_widgets               3.0.10\n",
            "kaggle                           1.5.16\n",
            "kagglehub                        0.1.9\n",
            "keras                            2.15.0\n",
            "keyring                          23.5.0\n",
            "kiwisolver                       1.4.5\n",
            "langcodes                        3.3.0\n",
            "launchpadlib                     1.10.16\n",
            "lazr.restfulclient               0.14.4\n",
            "lazr.uri                         1.0.6\n",
            "lazy_loader                      0.3\n",
            "libclang                         16.0.6\n",
            "librosa                          0.10.1\n",
            "lida                             0.0.10\n",
            "lightgbm                         4.1.0\n",
            "linkify-it-py                    2.0.3\n",
            "llmx                             0.0.15a0\n",
            "llvmlite                         0.41.1\n",
            "locket                           1.0.0\n",
            "logical-unification              0.4.6\n",
            "lxml                             4.9.4\n",
            "malloy                           2023.1067\n",
            "Markdown                         3.5.2\n",
            "markdown-it-py                   3.0.0\n",
            "MarkupSafe                       2.1.5\n",
            "matplotlib                       3.7.1\n",
            "matplotlib-inline                0.1.6\n",
            "matplotlib-venn                  0.11.10\n",
            "mdit-py-plugins                  0.4.0\n",
            "mdurl                            0.1.2\n",
            "miniKanren                       1.0.3\n",
            "missingno                        0.5.2\n",
            "mistune                          0.8.4\n",
            "mizani                           0.9.3\n",
            "mkl                              2023.2.0\n",
            "ml-dtypes                        0.2.0\n",
            "mlxtend                          0.22.0\n",
            "more-itertools                   10.1.0\n",
            "moviepy                          1.0.3\n",
            "mpmath                           1.3.0\n",
            "msgpack                          1.0.7\n",
            "multidict                        6.0.5\n",
            "multipledispatch                 1.0.0\n",
            "multitasking                     0.0.11\n",
            "murmurhash                       1.0.10\n",
            "music21                          9.1.0\n",
            "natsort                          8.4.0\n",
            "nbclassic                        1.0.0\n",
            "nbclient                         0.9.0\n",
            "nbconvert                        6.5.4\n",
            "nbformat                         5.9.2\n",
            "nest-asyncio                     1.6.0\n",
            "networkx                         3.2.1\n",
            "nibabel                          4.0.2\n",
            "nltk                             3.8.1\n",
            "notebook                         6.5.5\n",
            "notebook_shim                    0.2.3\n",
            "numba                            0.58.1\n",
            "numexpr                          2.9.0\n",
            "numpy                            1.25.2\n",
            "oauth2client                     4.1.3\n",
            "oauthlib                         3.2.2\n",
            "opencv-contrib-python            4.8.0.76\n",
            "opencv-python                    4.8.0.76\n",
            "opencv-python-headless           4.9.0.80\n",
            "openpyxl                         3.1.2\n",
            "opt-einsum                       3.3.0\n",
            "optax                            0.1.9\n",
            "orbax-checkpoint                 0.4.4\n",
            "osqp                             0.6.2.post8\n",
            "packaging                        23.2\n",
            "pandas                           1.5.3\n",
            "pandas-datareader                0.10.0\n",
            "pandas-gbq                       0.19.2\n",
            "pandas-stubs                     1.5.3.230304\n",
            "pandocfilters                    1.5.1\n",
            "panel                            1.3.8\n",
            "param                            2.0.2\n",
            "parso                            0.8.3\n",
            "parsy                            2.1\n",
            "partd                            1.4.1\n",
            "pathlib                          1.0.1\n",
            "patsy                            0.5.6\n",
            "peewee                           3.17.1\n",
            "pexpect                          4.9.0\n",
            "pickleshare                      0.7.5\n",
            "Pillow                           9.4.0\n",
            "pins                             0.8.4\n",
            "pip                              23.1.2\n",
            "pip-tools                        6.13.0\n",
            "platformdirs                     4.2.0\n",
            "plotly                           5.15.0\n",
            "plotnine                         0.12.4\n",
            "pluggy                           1.4.0\n",
            "polars                           0.20.2\n",
            "pooch                            1.8.0\n",
            "portpicker                       1.5.2\n",
            "prefetch-generator               1.0.3\n",
            "preshed                          3.0.9\n",
            "prettytable                      3.9.0\n",
            "proglog                          0.1.10\n",
            "progressbar2                     4.2.0\n",
            "prometheus-client                0.19.0\n",
            "promise                          2.3\n",
            "prompt-toolkit                   3.0.43\n",
            "prophet                          1.1.5\n",
            "proto-plus                       1.23.0\n",
            "protobuf                         3.20.3\n",
            "psutil                           5.9.5\n",
            "psycopg2                         2.9.9\n",
            "ptyprocess                       0.7.0\n",
            "py-cpuinfo                       9.0.0\n",
            "py4j                             0.10.9.7\n",
            "pyarrow                          10.0.1\n",
            "pyarrow-hotfix                   0.6\n",
            "pyasn1                           0.5.1\n",
            "pyasn1-modules                   0.3.0\n",
            "pycocotools                      2.0.7\n",
            "pycparser                        2.21\n",
            "pyct                             0.5.0\n",
            "pydantic                         2.6.1\n",
            "pydantic_core                    2.16.2\n",
            "pydata-google-auth               1.8.2\n",
            "pydot                            1.4.2\n",
            "pydot-ng                         2.0.0\n",
            "pydotplus                        2.0.2\n",
            "PyDrive                          1.3.1\n",
            "PyDrive2                         1.6.3\n",
            "pyerfa                           2.0.1.1\n",
            "pygame                           2.5.2\n",
            "Pygments                         2.16.1\n",
            "PyGObject                        3.42.1\n",
            "PyJWT                            2.3.0\n",
            "pymc                             5.7.2\n",
            "pymystem3                        0.2.0\n",
            "PyOpenGL                         3.1.7\n",
            "pyOpenSSL                        24.0.0\n",
            "pyparsing                        3.1.1\n",
            "pyperclip                        1.8.2\n",
            "pyproj                           3.6.1\n",
            "pyproject_hooks                  1.0.0\n",
            "pyshp                            2.3.1\n",
            "PySocks                          1.7.1\n",
            "pytensor                         2.14.2\n",
            "pytest                           7.4.4\n",
            "python-apt                       0.0.0\n",
            "python-box                       7.1.1\n",
            "python-dateutil                  2.8.2\n",
            "python-louvain                   0.16\n",
            "python-slugify                   8.0.4\n",
            "python-utils                     3.8.2\n",
            "pytz                             2023.4\n",
            "pyviz_comms                      3.0.1\n",
            "PyWavelets                       1.5.0\n",
            "PyYAML                           6.0.1\n",
            "pyzmq                            23.2.1\n",
            "qdldl                            0.1.7.post0\n",
            "qudida                           0.0.4\n",
            "ratelim                          0.1.6\n",
            "referencing                      0.33.0\n",
            "regex                            2023.12.25\n",
            "requests                         2.31.0\n",
            "requests-oauthlib                1.3.1\n",
            "requirements-parser              0.5.0\n",
            "rich                             13.7.0\n",
            "rpds-py                          0.17.1\n",
            "rpy2                             3.4.2\n",
            "rsa                              4.9\n",
            "safetensors                      0.4.2\n",
            "scikit-image                     0.19.3\n",
            "scikit-learn                     1.2.2\n",
            "scipy                            1.11.4\n",
            "scooby                           0.9.2\n",
            "scs                              3.2.4.post1\n",
            "seaborn                          0.13.1\n",
            "SecretStorage                    3.3.1\n",
            "Send2Trash                       1.8.2\n",
            "sentencepiece                    0.1.99\n",
            "setuptools                       67.7.2\n",
            "shapely                          2.0.2\n",
            "six                              1.16.0\n",
            "sklearn-pandas                   2.2.0\n",
            "smart-open                       6.4.0\n",
            "sniffio                          1.3.0\n",
            "snowballstemmer                  2.2.0\n",
            "sortedcontainers                 2.4.0\n",
            "soundfile                        0.12.1\n",
            "soupsieve                        2.5\n",
            "soxr                             0.3.7\n",
            "spacy                            3.7.2\n",
            "spacy-legacy                     3.0.12\n",
            "spacy-loggers                    1.0.5\n",
            "Sphinx                           5.0.2\n",
            "sphinxcontrib-applehelp          1.0.8\n",
            "sphinxcontrib-devhelp            1.0.6\n",
            "sphinxcontrib-htmlhelp           2.0.5\n",
            "sphinxcontrib-jsmath             1.0.1\n",
            "sphinxcontrib-qthelp             1.0.7\n",
            "sphinxcontrib-serializinghtml    1.1.10\n",
            "SQLAlchemy                       2.0.27\n",
            "sqlglot                          19.9.0\n",
            "sqlparse                         0.4.4\n",
            "srsly                            2.4.8\n",
            "stanio                           0.3.0\n",
            "statsmodels                      0.14.1\n",
            "sympy                            1.12\n",
            "tables                           3.8.0\n",
            "tabulate                         0.9.0\n",
            "tbb                              2021.11.0\n",
            "tblib                            3.0.0\n",
            "tenacity                         8.2.3\n",
            "tensorboard                      2.15.2\n",
            "tensorboard-data-server          0.7.2\n",
            "tensorflow                       2.15.0\n",
            "tensorflow-datasets              4.9.4\n",
            "tensorflow-estimator             2.15.0\n",
            "tensorflow-gcs-config            2.15.0\n",
            "tensorflow-hub                   0.16.1\n",
            "tensorflow-io-gcs-filesystem     0.36.0\n",
            "tensorflow-metadata              1.14.0\n",
            "tensorflow-probability           0.23.0\n",
            "tensorstore                      0.1.45\n",
            "termcolor                        2.4.0\n",
            "terminado                        0.18.0\n",
            "text-unidecode                   1.3\n",
            "textblob                         0.17.1\n",
            "tf-keras                         2.15.0\n",
            "tf-slim                          1.1.0\n",
            "thinc                            8.2.3\n",
            "threadpoolctl                    3.2.0\n",
            "tifffile                         2024.2.12\n",
            "tinycss2                         1.2.1\n",
            "tokenizers                       0.15.2\n",
            "toml                             0.10.2\n",
            "tomli                            2.0.1\n",
            "toolz                            0.12.1\n",
            "torch                            2.1.0+cu121\n",
            "torchaudio                       2.1.0+cu121\n",
            "torchdata                        0.7.0\n",
            "torchsummary                     1.5.1\n",
            "torchtext                        0.16.0\n",
            "torchvision                      0.16.0+cu121\n",
            "tornado                          6.3.2\n",
            "tqdm                             4.66.2\n",
            "traitlets                        5.7.1\n",
            "traittypes                       0.2.1\n",
            "transformers                     4.35.2\n",
            "triton                           2.1.0\n",
            "tweepy                           4.14.0\n",
            "typer                            0.9.0\n",
            "types-pytz                       2024.1.0.20240203\n",
            "types-setuptools                 69.0.0.20240125\n",
            "typing_extensions                4.9.0\n",
            "tzlocal                          5.2\n",
            "uc-micro-py                      1.0.3\n",
            "uritemplate                      4.1.1\n",
            "urllib3                          2.0.7\n",
            "vega-datasets                    0.9.0\n",
            "wadllib                          1.3.6\n",
            "wasabi                           1.1.2\n",
            "wcwidth                          0.2.13\n",
            "weasel                           0.3.4\n",
            "webcolors                        1.13\n",
            "webencodings                     0.5.1\n",
            "websocket-client                 1.7.0\n",
            "Werkzeug                         3.0.1\n",
            "wheel                            0.42.0\n",
            "widgetsnbextension               3.6.6\n",
            "wordcloud                        1.9.3\n",
            "wrapt                            1.14.1\n",
            "xarray                           2023.7.0\n",
            "xarray-einstats                  0.7.0\n",
            "xgboost                          2.0.3\n",
            "xlrd                             2.0.1\n",
            "xxhash                           3.4.1\n",
            "xyzservices                      2023.10.1\n",
            "yarl                             1.9.4\n",
            "yellowbrick                      1.5\n",
            "yfinance                         0.2.36\n",
            "zict                             3.0.0\n",
            "zipp                             3.17.0\n"
          ]
        }
      ],
      "source": [
        "!pip list"
      ]
    },
    {
      "cell_type": "code",
      "execution_count": 2,
      "id": "02f907ea-f669-46c7-adcf-7f257e663448",
      "metadata": {
        "colab": {
          "base_uri": "https://localhost:8080/"
        },
        "id": "02f907ea-f669-46c7-adcf-7f257e663448",
        "outputId": "9e14f5ca-391b-47c7-dccb-11f8df4711b0",
        "tags": []
      },
      "outputs": [
        {
          "name": "stdout",
          "output_type": "stream",
          "text": [
            "Requirement already satisfied: opencv-python in /usr/local/lib/python3.10/dist-packages (4.8.0.76)\n",
            "Requirement already satisfied: matplotlib in /usr/local/lib/python3.10/dist-packages (3.7.1)\n",
            "Requirement already satisfied: imageio in /usr/local/lib/python3.10/dist-packages (2.31.6)\n",
            "Requirement already satisfied: gdown in /usr/local/lib/python3.10/dist-packages (4.7.3)\n",
            "Requirement already satisfied: tensorflow in /usr/local/lib/python3.10/dist-packages (2.15.0)\n",
            "Requirement already satisfied: numpy>=1.21.2 in /usr/local/lib/python3.10/dist-packages (from opencv-python) (1.25.2)\n",
            "Requirement already satisfied: contourpy>=1.0.1 in /usr/local/lib/python3.10/dist-packages (from matplotlib) (1.2.0)\n",
            "Requirement already satisfied: cycler>=0.10 in /usr/local/lib/python3.10/dist-packages (from matplotlib) (0.12.1)\n",
            "Requirement already satisfied: fonttools>=4.22.0 in /usr/local/lib/python3.10/dist-packages (from matplotlib) (4.48.1)\n",
            "Requirement already satisfied: kiwisolver>=1.0.1 in /usr/local/lib/python3.10/dist-packages (from matplotlib) (1.4.5)\n",
            "Requirement already satisfied: packaging>=20.0 in /usr/local/lib/python3.10/dist-packages (from matplotlib) (23.2)\n",
            "Requirement already satisfied: pillow>=6.2.0 in /usr/local/lib/python3.10/dist-packages (from matplotlib) (9.4.0)\n",
            "Requirement already satisfied: pyparsing>=2.3.1 in /usr/local/lib/python3.10/dist-packages (from matplotlib) (3.1.1)\n",
            "Requirement already satisfied: python-dateutil>=2.7 in /usr/local/lib/python3.10/dist-packages (from matplotlib) (2.8.2)\n",
            "Requirement already satisfied: filelock in /usr/local/lib/python3.10/dist-packages (from gdown) (3.13.1)\n",
            "Requirement already satisfied: requests[socks] in /usr/local/lib/python3.10/dist-packages (from gdown) (2.31.0)\n",
            "Requirement already satisfied: six in /usr/local/lib/python3.10/dist-packages (from gdown) (1.16.0)\n",
            "Requirement already satisfied: tqdm in /usr/local/lib/python3.10/dist-packages (from gdown) (4.66.2)\n",
            "Requirement already satisfied: beautifulsoup4 in /usr/local/lib/python3.10/dist-packages (from gdown) (4.12.3)\n",
            "Requirement already satisfied: absl-py>=1.0.0 in /usr/local/lib/python3.10/dist-packages (from tensorflow) (1.4.0)\n",
            "Requirement already satisfied: astunparse>=1.6.0 in /usr/local/lib/python3.10/dist-packages (from tensorflow) (1.6.3)\n",
            "Requirement already satisfied: flatbuffers>=23.5.26 in /usr/local/lib/python3.10/dist-packages (from tensorflow) (23.5.26)\n",
            "Requirement already satisfied: gast!=0.5.0,!=0.5.1,!=0.5.2,>=0.2.1 in /usr/local/lib/python3.10/dist-packages (from tensorflow) (0.5.4)\n",
            "Requirement already satisfied: google-pasta>=0.1.1 in /usr/local/lib/python3.10/dist-packages (from tensorflow) (0.2.0)\n",
            "Requirement already satisfied: h5py>=2.9.0 in /usr/local/lib/python3.10/dist-packages (from tensorflow) (3.9.0)\n",
            "Requirement already satisfied: libclang>=13.0.0 in /usr/local/lib/python3.10/dist-packages (from tensorflow) (16.0.6)\n",
            "Requirement already satisfied: ml-dtypes~=0.2.0 in /usr/local/lib/python3.10/dist-packages (from tensorflow) (0.2.0)\n",
            "Requirement already satisfied: opt-einsum>=2.3.2 in /usr/local/lib/python3.10/dist-packages (from tensorflow) (3.3.0)\n",
            "Requirement already satisfied: protobuf!=4.21.0,!=4.21.1,!=4.21.2,!=4.21.3,!=4.21.4,!=4.21.5,<5.0.0dev,>=3.20.3 in /usr/local/lib/python3.10/dist-packages (from tensorflow) (3.20.3)\n",
            "Requirement already satisfied: setuptools in /usr/local/lib/python3.10/dist-packages (from tensorflow) (67.7.2)\n",
            "Requirement already satisfied: termcolor>=1.1.0 in /usr/local/lib/python3.10/dist-packages (from tensorflow) (2.4.0)\n",
            "Requirement already satisfied: typing-extensions>=3.6.6 in /usr/local/lib/python3.10/dist-packages (from tensorflow) (4.9.0)\n",
            "Requirement already satisfied: wrapt<1.15,>=1.11.0 in /usr/local/lib/python3.10/dist-packages (from tensorflow) (1.14.1)\n",
            "Requirement already satisfied: tensorflow-io-gcs-filesystem>=0.23.1 in /usr/local/lib/python3.10/dist-packages (from tensorflow) (0.36.0)\n",
            "Requirement already satisfied: grpcio<2.0,>=1.24.3 in /usr/local/lib/python3.10/dist-packages (from tensorflow) (1.60.1)\n",
            "Requirement already satisfied: tensorboard<2.16,>=2.15 in /usr/local/lib/python3.10/dist-packages (from tensorflow) (2.15.2)\n",
            "Requirement already satisfied: tensorflow-estimator<2.16,>=2.15.0 in /usr/local/lib/python3.10/dist-packages (from tensorflow) (2.15.0)\n",
            "Requirement already satisfied: keras<2.16,>=2.15.0 in /usr/local/lib/python3.10/dist-packages (from tensorflow) (2.15.0)\n",
            "Requirement already satisfied: wheel<1.0,>=0.23.0 in /usr/local/lib/python3.10/dist-packages (from astunparse>=1.6.0->tensorflow) (0.42.0)\n",
            "Requirement already satisfied: google-auth<3,>=1.6.3 in /usr/local/lib/python3.10/dist-packages (from tensorboard<2.16,>=2.15->tensorflow) (2.27.0)\n",
            "Requirement already satisfied: google-auth-oauthlib<2,>=0.5 in /usr/local/lib/python3.10/dist-packages (from tensorboard<2.16,>=2.15->tensorflow) (1.2.0)\n",
            "Requirement already satisfied: markdown>=2.6.8 in /usr/local/lib/python3.10/dist-packages (from tensorboard<2.16,>=2.15->tensorflow) (3.5.2)\n",
            "Requirement already satisfied: tensorboard-data-server<0.8.0,>=0.7.0 in /usr/local/lib/python3.10/dist-packages (from tensorboard<2.16,>=2.15->tensorflow) (0.7.2)\n",
            "Requirement already satisfied: werkzeug>=1.0.1 in /usr/local/lib/python3.10/dist-packages (from tensorboard<2.16,>=2.15->tensorflow) (3.0.1)\n",
            "Requirement already satisfied: soupsieve>1.2 in /usr/local/lib/python3.10/dist-packages (from beautifulsoup4->gdown) (2.5)\n",
            "Requirement already satisfied: charset-normalizer<4,>=2 in /usr/local/lib/python3.10/dist-packages (from requests[socks]->gdown) (3.3.2)\n",
            "Requirement already satisfied: idna<4,>=2.5 in /usr/local/lib/python3.10/dist-packages (from requests[socks]->gdown) (3.6)\n",
            "Requirement already satisfied: urllib3<3,>=1.21.1 in /usr/local/lib/python3.10/dist-packages (from requests[socks]->gdown) (2.0.7)\n",
            "Requirement already satisfied: certifi>=2017.4.17 in /usr/local/lib/python3.10/dist-packages (from requests[socks]->gdown) (2024.2.2)\n",
            "Requirement already satisfied: PySocks!=1.5.7,>=1.5.6 in /usr/local/lib/python3.10/dist-packages (from requests[socks]->gdown) (1.7.1)\n",
            "Requirement already satisfied: cachetools<6.0,>=2.0.0 in /usr/local/lib/python3.10/dist-packages (from google-auth<3,>=1.6.3->tensorboard<2.16,>=2.15->tensorflow) (5.3.2)\n",
            "Requirement already satisfied: pyasn1-modules>=0.2.1 in /usr/local/lib/python3.10/dist-packages (from google-auth<3,>=1.6.3->tensorboard<2.16,>=2.15->tensorflow) (0.3.0)\n",
            "Requirement already satisfied: rsa<5,>=3.1.4 in /usr/local/lib/python3.10/dist-packages (from google-auth<3,>=1.6.3->tensorboard<2.16,>=2.15->tensorflow) (4.9)\n",
            "Requirement already satisfied: requests-oauthlib>=0.7.0 in /usr/local/lib/python3.10/dist-packages (from google-auth-oauthlib<2,>=0.5->tensorboard<2.16,>=2.15->tensorflow) (1.3.1)\n",
            "Requirement already satisfied: MarkupSafe>=2.1.1 in /usr/local/lib/python3.10/dist-packages (from werkzeug>=1.0.1->tensorboard<2.16,>=2.15->tensorflow) (2.1.5)\n",
            "Requirement already satisfied: pyasn1<0.6.0,>=0.4.6 in /usr/local/lib/python3.10/dist-packages (from pyasn1-modules>=0.2.1->google-auth<3,>=1.6.3->tensorboard<2.16,>=2.15->tensorflow) (0.5.1)\n",
            "Requirement already satisfied: oauthlib>=3.0.0 in /usr/local/lib/python3.10/dist-packages (from requests-oauthlib>=0.7.0->google-auth-oauthlib<2,>=0.5->tensorboard<2.16,>=2.15->tensorflow) (3.2.2)\n"
          ]
        }
      ],
      "source": [
        "!pip install opencv-python matplotlib imageio gdown tensorflow"
      ]
    },
    {
      "cell_type": "code",
      "execution_count": 3,
      "id": "b24af50c-20b8-409d-ad78-30a933fdd669",
      "metadata": {
        "id": "b24af50c-20b8-409d-ad78-30a933fdd669",
        "tags": []
      },
      "outputs": [],
      "source": [
        "import os\n",
        "import cv2\n",
        "import tensorflow as tf\n",
        "import numpy as np\n",
        "from typing import List\n",
        "from matplotlib import pyplot as plt\n",
        "import imageio"
      ]
    },
    {
      "cell_type": "code",
      "execution_count": 4,
      "id": "1e3db0b0-e559-4ad6-91fd-e7414b7d75e6",
      "metadata": {
        "colab": {
          "base_uri": "https://localhost:8080/"
        },
        "id": "1e3db0b0-e559-4ad6-91fd-e7414b7d75e6",
        "outputId": "1b380de8-8028-4229-932f-4fbf44fea0ac"
      },
      "outputs": [
        {
          "data": {
            "text/plain": [
              "[PhysicalDevice(name='/physical_device:GPU:0', device_type='GPU')]"
            ]
          },
          "execution_count": 4,
          "metadata": {},
          "output_type": "execute_result"
        }
      ],
      "source": [
        "tf.config.list_physical_devices('GPU')"
      ]
    },
    {
      "cell_type": "code",
      "execution_count": 5,
      "id": "378d045a-3003-4f93-b7d2-a25a97774a68",
      "metadata": {
        "id": "378d045a-3003-4f93-b7d2-a25a97774a68",
        "tags": []
      },
      "outputs": [],
      "source": [
        "physical_devices = tf.config.list_physical_devices('GPU')\n",
        "try:\n",
        "    tf.config.experimental.set_memory_growth(physical_devices[0], True)\n",
        "except:\n",
        "    pass"
      ]
    },
    {
      "cell_type": "markdown",
      "id": "7a19e88e-c7b9-45c1-ae1e-f2109329c71b",
      "metadata": {
        "id": "7a19e88e-c7b9-45c1-ae1e-f2109329c71b",
        "tags": []
      },
      "source": [
        "# 1. Build Data Loading Functions"
      ]
    },
    {
      "cell_type": "code",
      "execution_count": 6,
      "id": "8fb99c90-e05a-437f-839d-6e772f8c1dd5",
      "metadata": {
        "id": "8fb99c90-e05a-437f-839d-6e772f8c1dd5",
        "tags": []
      },
      "outputs": [],
      "source": [
        "import gdown"
      ]
    },
    {
      "cell_type": "code",
      "execution_count": 7,
      "id": "c019e4c6-2af3-4160-99ea-5c8cb009f1a7",
      "metadata": {
        "id": "c019e4c6-2af3-4160-99ea-5c8cb009f1a7",
        "tags": []
      },
      "outputs": [],
      "source": [
        "#url = 'https://drive.google.com/uc?id=1YlvpDLix3S-U8fd-gqRwPcWXAXm8JwjL'\n",
        "#output = 'data.zip'\n",
        "#gdown.download(url, output, quiet=False)\n",
        "#gdown.extractall('data.zip')"
      ]
    },
    {
      "cell_type": "code",
      "execution_count": 8,
      "id": "8548cc59-6dfc-4acc-abc3-3e65212db02e",
      "metadata": {
        "id": "8548cc59-6dfc-4acc-abc3-3e65212db02e",
        "tags": []
      },
      "outputs": [],
      "source": [
        "def load_video(path:str) -> List[float]:\n",
        "\n",
        "    cap = cv2.VideoCapture(path)\n",
        "    frames = []\n",
        "    for _ in range(int(cap.get(cv2.CAP_PROP_FRAME_COUNT))):\n",
        "        ret, frame = cap.read()\n",
        "        frame = tf.image.rgb_to_grayscale(frame)\n",
        "        frames.append(frame[190:236,80:220,:])\n",
        "    cap.release()\n",
        "\n",
        "    mean = tf.math.reduce_mean(frames)\n",
        "    std = tf.math.reduce_std(tf.cast(frames, tf.float32))\n",
        "    return tf.cast((frames - mean), tf.float32) / std"
      ]
    },
    {
      "cell_type": "code",
      "execution_count": 9,
      "id": "ec735e0b-ec98-4eb0-8f49-c35527d6670a",
      "metadata": {
        "id": "ec735e0b-ec98-4eb0-8f49-c35527d6670a",
        "tags": []
      },
      "outputs": [],
      "source": [
        "vocab = [x for x in \"abcdefghijklmnopqrstuvwxyz'?!123456789 \"]"
      ]
    },
    {
      "cell_type": "code",
      "execution_count": 10,
      "id": "be04e972-d7a5-4a72-82d8-a6bdde1f3ce6",
      "metadata": {
        "colab": {
          "base_uri": "https://localhost:8080/"
        },
        "id": "be04e972-d7a5-4a72-82d8-a6bdde1f3ce6",
        "outputId": "85d88371-9eef-4cce-aa63-a3858597e580",
        "tags": []
      },
      "outputs": [
        {
          "name": "stdout",
          "output_type": "stream",
          "text": [
            "The vocabulary is: ['', 'a', 'b', 'c', 'd', 'e', 'f', 'g', 'h', 'i', 'j', 'k', 'l', 'm', 'n', 'o', 'p', 'q', 'r', 's', 't', 'u', 'v', 'w', 'x', 'y', 'z', \"'\", '?', '!', '1', '2', '3', '4', '5', '6', '7', '8', '9', ' '] (size =40)\n"
          ]
        }
      ],
      "source": [
        "char_to_num = tf.keras.layers.StringLookup(vocabulary=vocab, oov_token=\"\")\n",
        "num_to_char = tf.keras.layers.StringLookup(\n",
        "    vocabulary=char_to_num.get_vocabulary(), oov_token=\"\", invert=True\n",
        ")\n",
        "\n",
        "print(\n",
        "    f\"The vocabulary is: {char_to_num.get_vocabulary()} \"\n",
        "    f\"(size ={char_to_num.vocabulary_size()})\"\n",
        ")"
      ]
    },
    {
      "cell_type": "code",
      "execution_count": 11,
      "id": "559f7420-6802-45fa-9ca0-b1ff209b461c",
      "metadata": {
        "colab": {
          "base_uri": "https://localhost:8080/"
        },
        "id": "559f7420-6802-45fa-9ca0-b1ff209b461c",
        "outputId": "a4a92dd2-dd27-4e2a-da4f-22fd8b54c1e7",
        "tags": []
      },
      "outputs": [
        {
          "data": {
            "text/plain": [
              "['',\n",
              " 'a',\n",
              " 'b',\n",
              " 'c',\n",
              " 'd',\n",
              " 'e',\n",
              " 'f',\n",
              " 'g',\n",
              " 'h',\n",
              " 'i',\n",
              " 'j',\n",
              " 'k',\n",
              " 'l',\n",
              " 'm',\n",
              " 'n',\n",
              " 'o',\n",
              " 'p',\n",
              " 'q',\n",
              " 'r',\n",
              " 's',\n",
              " 't',\n",
              " 'u',\n",
              " 'v',\n",
              " 'w',\n",
              " 'x',\n",
              " 'y',\n",
              " 'z',\n",
              " \"'\",\n",
              " '?',\n",
              " '!',\n",
              " '1',\n",
              " '2',\n",
              " '3',\n",
              " '4',\n",
              " '5',\n",
              " '6',\n",
              " '7',\n",
              " '8',\n",
              " '9',\n",
              " ' ']"
            ]
          },
          "execution_count": 11,
          "metadata": {},
          "output_type": "execute_result"
        }
      ],
      "source": [
        "char_to_num.get_vocabulary()"
      ]
    },
    {
      "cell_type": "code",
      "execution_count": 12,
      "id": "797ff78b-b48f-4e14-bb62-8cd0ebf9501a",
      "metadata": {
        "colab": {
          "base_uri": "https://localhost:8080/"
        },
        "id": "797ff78b-b48f-4e14-bb62-8cd0ebf9501a",
        "outputId": "63ec0d5c-7c21-458e-b8fd-5197fe467502",
        "tags": []
      },
      "outputs": [
        {
          "data": {
            "text/plain": [
              "<tf.Tensor: shape=(4,), dtype=int64, numpy=array([14,  9,  3, 11])>"
            ]
          },
          "execution_count": 12,
          "metadata": {},
          "output_type": "execute_result"
        }
      ],
      "source": [
        "char_to_num(['n','i','c','k'])"
      ]
    },
    {
      "cell_type": "code",
      "execution_count": 13,
      "id": "8cd7f4f4-ae77-4509-a4f4-c723787ebad1",
      "metadata": {
        "colab": {
          "base_uri": "https://localhost:8080/"
        },
        "id": "8cd7f4f4-ae77-4509-a4f4-c723787ebad1",
        "outputId": "9f2ebf45-0be3-4b67-dd51-82dcfe5adc04"
      },
      "outputs": [
        {
          "data": {
            "text/plain": [
              "<tf.Tensor: shape=(4,), dtype=string, numpy=array([b'n', b'i', b'c', b'k'], dtype=object)>"
            ]
          },
          "execution_count": 13,
          "metadata": {},
          "output_type": "execute_result"
        }
      ],
      "source": [
        "num_to_char([14,  9,  3, 11])"
      ]
    },
    {
      "cell_type": "code",
      "execution_count": 14,
      "id": "9491bab5-6a3c-4f79-879a-8f9fbe73ae2e",
      "metadata": {
        "id": "9491bab5-6a3c-4f79-879a-8f9fbe73ae2e",
        "tags": []
      },
      "outputs": [],
      "source": [
        "def load_alignments(path:str) -> List[str]:\n",
        "    with open(path, 'r') as f:\n",
        "        lines = f.readlines()\n",
        "    tokens = []\n",
        "    for line in lines:\n",
        "        line = line.split()\n",
        "        if line[2] != 'sil':\n",
        "            tokens = [*tokens,' ',line[2]]\n",
        "    return char_to_num(tf.reshape(tf.strings.unicode_split(tokens, input_encoding='UTF-8'), (-1)))[1:]"
      ]
    },
    {
      "cell_type": "code",
      "execution_count": 15,
      "id": "dd01ca9f-77fb-4643-a2aa-47dd82c5d66b",
      "metadata": {
        "id": "dd01ca9f-77fb-4643-a2aa-47dd82c5d66b",
        "tags": []
      },
      "outputs": [],
      "source": [
        "def load_data(path: str):\n",
        "    path = bytes.decode(path.numpy())\n",
        "    file_name = path.split('/')[-1].split('.')[0]\n",
        "    # File name splitting for windows\n",
        "    #file_name = path.split('\\\\')[-1].split('.')[0]\n",
        "    video_path = os.path.join('data','s1',f'{file_name}.mpg')\n",
        "    alignment_path = os.path.join('data','alignments','s1',f'{file_name}.align')\n",
        "    frames = load_video(video_path)\n",
        "    alignments = load_alignments(alignment_path)\n",
        "\n",
        "    return frames, alignments"
      ]
    },
    {
      "cell_type": "code",
      "execution_count": 16,
      "id": "8cb7cc58-31ae-4904-a805-1177a82717d2",
      "metadata": {
        "id": "8cb7cc58-31ae-4904-a805-1177a82717d2",
        "tags": []
      },
      "outputs": [],
      "source": [
        "test_path = './data/s1/bbal6n.mpg'"
      ]
    },
    {
      "cell_type": "code",
      "execution_count": 17,
      "id": "76aa964f-0c84-490d-897a-d00e3966e2c9",
      "metadata": {
        "colab": {
          "base_uri": "https://localhost:8080/"
        },
        "id": "76aa964f-0c84-490d-897a-d00e3966e2c9",
        "outputId": "76d072db-35ee-47c9-a7bc-4d241f0b7592"
      },
      "outputs": [
        {
          "data": {
            "text/plain": [
              "<tf.Tensor: shape=(), dtype=string, numpy=b'./data/s1/bbal6n.mpg'>"
            ]
          },
          "execution_count": 17,
          "metadata": {},
          "output_type": "execute_result"
        }
      ],
      "source": [
        "tf.convert_to_tensor(test_path)"
      ]
    },
    {
      "cell_type": "code",
      "execution_count": 18,
      "id": "eb602c71-8560-4f9e-b26b-08202febb937",
      "metadata": {
        "id": "eb602c71-8560-4f9e-b26b-08202febb937",
        "scrolled": true,
        "tags": []
      },
      "outputs": [],
      "source": [
        "frames, alignments = load_data(tf.convert_to_tensor(test_path))"
      ]
    },
    {
      "cell_type": "code",
      "execution_count": 19,
      "id": "0e3184a1-6b02-4b4f-84a8-a0a65f951ea2",
      "metadata": {
        "colab": {
          "base_uri": "https://localhost:8080/",
          "height": 244
        },
        "id": "0e3184a1-6b02-4b4f-84a8-a0a65f951ea2",
        "outputId": "df3ea0c7-f5e4-4d21-cc98-aa52b5749033"
      },
      "outputs": [
        {
          "data": {
            "text/plain": [
              "<matplotlib.image.AxesImage at 0x7e6a4218fdf0>"
            ]
          },
          "execution_count": 19,
          "metadata": {},
          "output_type": "execute_result"
        },
        {
          "data": {
            "image/png": "[encoded data removed]",
            "text/plain": [
              "<Figure size 640x480 with 1 Axes>"
            ]
          },
          "metadata": {},
          "output_type": "display_data"
        }
      ],
      "source": [
        "plt.imshow(frames[40])"
      ]
    },
    {
      "cell_type": "code",
      "execution_count": 20,
      "id": "d7ec0833-d54b-4073-84cf-92d011c60ec1",
      "metadata": {
        "colab": {
          "base_uri": "https://localhost:8080/"
        },
        "id": "d7ec0833-d54b-4073-84cf-92d011c60ec1",
        "outputId": "4f00aff0-b274-46e7-c8c0-787283a8da9c"
      },
      "outputs": [
        {
          "data": {
            "text/plain": [
              "<tf.Tensor: shape=(21,), dtype=int64, numpy=\n",
              "array([ 2,  9, 14, 39,  2, 12, 21,  5, 39,  1, 20, 39, 12, 39, 19,  9, 24,\n",
              "       39, 14, 15, 23])>"
            ]
          },
          "execution_count": 20,
          "metadata": {},
          "output_type": "execute_result"
        }
      ],
      "source": [
        "alignments"
      ]
    },
    {
      "cell_type": "code",
      "execution_count": 21,
      "id": "fe1ad370-b287-4b46-85a2-7c45b0bd9b10",
      "metadata": {
        "colab": {
          "base_uri": "https://localhost:8080/"
        },
        "id": "fe1ad370-b287-4b46-85a2-7c45b0bd9b10",
        "outputId": "c0c0e4b5-da89-4b40-a328-0eb6a457bdf5"
      },
      "outputs": [
        {
          "data": {
            "text/plain": [
              "<tf.Tensor: shape=(), dtype=string, numpy=b'bin blue at l six now'>"
            ]
          },
          "execution_count": 21,
          "metadata": {},
          "output_type": "execute_result"
        }
      ],
      "source": [
        "tf.strings.reduce_join([bytes.decode(x) for x in num_to_char(alignments.numpy()).numpy()])"
      ]
    },
    {
      "cell_type": "code",
      "execution_count": 22,
      "id": "6871031a-b0ba-4c76-a852-f6329b0f2606",
      "metadata": {
        "id": "6871031a-b0ba-4c76-a852-f6329b0f2606",
        "tags": []
      },
      "outputs": [],
      "source": [
        "def mappable_function(path:str) ->List[str]:\n",
        "    result = tf.py_function(load_data, [path], (tf.float32, tf.int64))\n",
        "    return result"
      ]
    },
    {
      "cell_type": "markdown",
      "id": "c40a7eb4-0c3e-4eab-9291-5611cb68ce08",
      "metadata": {
        "id": "c40a7eb4-0c3e-4eab-9291-5611cb68ce08",
        "tags": []
      },
      "source": [
        "# 2. Create Data Pipeline"
      ]
    },
    {
      "cell_type": "code",
      "execution_count": 23,
      "id": "7686355d-45aa-4c85-ad9c-053e6a9b4d81",
      "metadata": {
        "id": "7686355d-45aa-4c85-ad9c-053e6a9b4d81",
        "tags": []
      },
      "outputs": [],
      "source": [
        "from matplotlib import pyplot as plt"
      ]
    },
    {
      "cell_type": "code",
      "execution_count": 24,
      "id": "f066fea2-91b1-42ed-a67d-00566a1a53ff",
      "metadata": {
        "id": "f066fea2-91b1-42ed-a67d-00566a1a53ff",
        "tags": []
      },
      "outputs": [],
      "source": [
        "data = tf.data.Dataset.list_files('./data/s1/*.mpg')\n",
        "data = data.shuffle(500, reshuffle_each_iteration=False)\n",
        "data = data.map(mappable_function)\n",
        "data = data.padded_batch(2, padded_shapes=([75,None,None,None],[40]))\n",
        "data = data.prefetch(tf.data.AUTOTUNE)\n",
        "# Added for split\n",
        "train = data.take(450)\n",
        "test = data.skip(450)"
      ]
    },
    {
      "cell_type": "code",
      "execution_count": 25,
      "id": "6b1365bd-7742-41d1-95d4-247021751c3a",
      "metadata": {
        "colab": {
          "base_uri": "https://localhost:8080/"
        },
        "id": "6b1365bd-7742-41d1-95d4-247021751c3a",
        "outputId": "e4acc4e9-c335-4acb-9aa9-969ccc9e28d0"
      },
      "outputs": [
        {
          "data": {
            "text/plain": [
              "50"
            ]
          },
          "execution_count": 25,
          "metadata": {},
          "output_type": "execute_result"
        }
      ],
      "source": [
        "len(test)"
      ]
    },
    {
      "cell_type": "code",
      "execution_count": 26,
      "id": "5281bde8-fdc8-4da1-bd55-5a7929a9e80c",
      "metadata": {
        "id": "5281bde8-fdc8-4da1-bd55-5a7929a9e80c"
      },
      "outputs": [],
      "source": [
        "frames, alignments = data.as_numpy_iterator().next()"
      ]
    },
    {
      "cell_type": "code",
      "execution_count": 27,
      "id": "cbebe683-6afd-47fd-bba4-c83b4b13bb32",
      "metadata": {
        "colab": {
          "base_uri": "https://localhost:8080/"
        },
        "id": "cbebe683-6afd-47fd-bba4-c83b4b13bb32",
        "outputId": "2eb8f1d5-3f41-423c-8441-7f928310524b"
      },
      "outputs": [
        {
          "data": {
            "text/plain": [
              "2"
            ]
          },
          "execution_count": 27,
          "metadata": {},
          "output_type": "execute_result"
        }
      ],
      "source": [
        "len(frames)"
      ]
    },
    {
      "cell_type": "code",
      "execution_count": 28,
      "id": "5cf2d676-93a9-434c-b3c7-bdcc2577b2e7",
      "metadata": {
        "id": "5cf2d676-93a9-434c-b3c7-bdcc2577b2e7",
        "tags": []
      },
      "outputs": [],
      "source": [
        "sample = data.as_numpy_iterator()"
      ]
    },
    {
      "cell_type": "code",
      "execution_count": 29,
      "id": "efa6cd46-7079-46c0-b45b-832f339f6cb0",
      "metadata": {
        "colab": {
          "base_uri": "https://localhost:8080/"
        },
        "id": "efa6cd46-7079-46c0-b45b-832f339f6cb0",
        "outputId": "4810bbb7-8466-42d4-a8b2-b964246889e7",
        "scrolled": true,
        "tags": []
      },
      "outputs": [
        {
          "data": {
            "text/plain": [
              "array([[[[[1.4706806 ],\n",
              "          [1.4706806 ],\n",
              "          [1.3932763 ],\n",
              "          ...,\n",
              "          [0.23221272],\n",
              "          [9.791636  ],\n",
              "          [9.288509  ]],\n",
              "\n",
              "         [[1.4706806 ],\n",
              "          [1.4706806 ],\n",
              "          [1.3932763 ],\n",
              "          ...,\n",
              "          [9.8303385 ],\n",
              "          [9.520721  ],\n",
              "          [9.404615  ]],\n",
              "\n",
              "         [[1.27717   ],\n",
              "          [1.27717   ],\n",
              "          [1.27717   ],\n",
              "          ...,\n",
              "          [9.443317  ],\n",
              "          [9.404615  ],\n",
              "          [9.520721  ]],\n",
              "\n",
              "         ...,\n",
              "\n",
              "         [[0.9288509 ],\n",
              "          [0.9288509 ],\n",
              "          [0.9288509 ],\n",
              "          ...,\n",
              "          [0.03870212],\n",
              "          [0.        ],\n",
              "          [9.8690405 ]],\n",
              "\n",
              "         [[0.8901488 ],\n",
              "          [0.8901488 ],\n",
              "          [0.8901488 ],\n",
              "          ...,\n",
              "          [0.03870212],\n",
              "          [9.8690405 ],\n",
              "          [9.8690405 ]],\n",
              "\n",
              "         [[0.8901488 ],\n",
              "          [0.8901488 ],\n",
              "          [0.8901488 ],\n",
              "          ...,\n",
              "          [0.        ],\n",
              "          [9.8690405 ],\n",
              "          [9.8303385 ]]],\n",
              "\n",
              "\n",
              "        [[[1.3932763 ],\n",
              "          [1.3932763 ],\n",
              "          [1.3545742 ],\n",
              "          ...,\n",
              "          [0.65793604],\n",
              "          [9.598126  ],\n",
              "          [9.520721  ]],\n",
              "\n",
              "         [[1.3545742 ],\n",
              "          [1.3545742 ],\n",
              "          [1.3158721 ],\n",
              "          ...,\n",
              "          [9.791636  ],\n",
              "          [9.365913  ],\n",
              "          [9.520721  ]],\n",
              "\n",
              "         [[1.3158721 ],\n",
              "          [1.3158721 ],\n",
              "          [1.27717   ],\n",
              "          ...,\n",
              "          [9.1337    ],\n",
              "          [9.327211  ],\n",
              "          [9.636828  ]],\n",
              "\n",
              "         ...,\n",
              "\n",
              "         [[0.9288509 ],\n",
              "          [0.9288509 ],\n",
              "          [0.8901488 ],\n",
              "          ...,\n",
              "          [0.07740425],\n",
              "          [0.03870212],\n",
              "          [0.        ]],\n",
              "\n",
              "         [[0.9288509 ],\n",
              "          [0.9288509 ],\n",
              "          [0.8901488 ],\n",
              "          ...,\n",
              "          [0.03870212],\n",
              "          [0.        ],\n",
              "          [0.        ]],\n",
              "\n",
              "         [[0.9288509 ],\n",
              "          [0.9288509 ],\n",
              "          [0.8901488 ],\n",
              "          ...,\n",
              "          [0.        ],\n",
              "          [0.        ],\n",
              "          [9.8690405 ]]],\n",
              "\n",
              "\n",
              "        [[[1.3932763 ],\n",
              "          [1.3932763 ],\n",
              "          [1.3545742 ],\n",
              "          ...,\n",
              "          [0.65793604],\n",
              "          [9.559424  ],\n",
              "          [9.520721  ]],\n",
              "\n",
              "         [[1.3545742 ],\n",
              "          [1.3545742 ],\n",
              "          [1.3158721 ],\n",
              "          ...,\n",
              "          [9.752934  ],\n",
              "          [9.288509  ],\n",
              "          [9.482019  ]],\n",
              "\n",
              "         [[1.3545742 ],\n",
              "          [1.3545742 ],\n",
              "          [1.3545742 ],\n",
              "          ...,\n",
              "          [9.172402  ],\n",
              "          [9.482019  ],\n",
              "          [9.8303385 ]],\n",
              "\n",
              "         ...,\n",
              "\n",
              "         [[1.0062551 ],\n",
              "          [1.0062551 ],\n",
              "          [0.967553  ],\n",
              "          ...,\n",
              "          [0.        ],\n",
              "          [0.        ],\n",
              "          [0.        ]],\n",
              "\n",
              "         [[0.967553  ],\n",
              "          [0.967553  ],\n",
              "          [0.9288509 ],\n",
              "          ...,\n",
              "          [9.8690405 ],\n",
              "          [0.        ],\n",
              "          [0.        ]],\n",
              "\n",
              "         [[0.967553  ],\n",
              "          [0.967553  ],\n",
              "          [0.9288509 ],\n",
              "          ...,\n",
              "          [9.8690405 ],\n",
              "          [0.        ],\n",
              "          [9.8690405 ]]],\n",
              "\n",
              "\n",
              "        ...,\n",
              "\n",
              "\n",
              "        [[[1.4319785 ],\n",
              "          [1.4319785 ],\n",
              "          [1.3545742 ],\n",
              "          ...,\n",
              "          [0.8901488 ],\n",
              "          [1.1223615 ],\n",
              "          [0.30961698]],\n",
              "\n",
              "         [[1.4319785 ],\n",
              "          [1.4319785 ],\n",
              "          [1.3545742 ],\n",
              "          ...,\n",
              "          [0.65793604],\n",
              "          [1.2384679 ],\n",
              "          [9.520721  ]],\n",
              "\n",
              "         [[1.3932763 ],\n",
              "          [1.3932763 ],\n",
              "          [1.3932763 ],\n",
              "          ...,\n",
              "          [0.69663817],\n",
              "          [0.5418297 ],\n",
              "          [9.482019  ]],\n",
              "\n",
              "         ...,\n",
              "\n",
              "         [[1.0062551 ],\n",
              "          [1.0062551 ],\n",
              "          [0.967553  ],\n",
              "          ...,\n",
              "          [0.15480849],\n",
              "          [0.11610636],\n",
              "          [0.07740425]],\n",
              "\n",
              "         [[1.0062551 ],\n",
              "          [1.0062551 ],\n",
              "          [0.967553  ],\n",
              "          ...,\n",
              "          [0.03870212],\n",
              "          [0.03870212],\n",
              "          [0.        ]],\n",
              "\n",
              "         [[1.0062551 ],\n",
              "          [1.0062551 ],\n",
              "          [0.967553  ],\n",
              "          ...,\n",
              "          [0.03870212],\n",
              "          [0.        ],\n",
              "          [9.8690405 ]]],\n",
              "\n",
              "\n",
              "        [[[1.3545742 ],\n",
              "          [1.3545742 ],\n",
              "          [1.3932763 ],\n",
              "          ...,\n",
              "          [0.8901488 ],\n",
              "          [1.1610637 ],\n",
              "          [0.3870212 ]],\n",
              "\n",
              "         [[1.3545742 ],\n",
              "          [1.3545742 ],\n",
              "          [1.3932763 ],\n",
              "          ...,\n",
              "          [0.7353403 ],\n",
              "          [1.1997658 ],\n",
              "          [9.67553   ]],\n",
              "\n",
              "         [[1.4319785 ],\n",
              "          [1.4319785 ],\n",
              "          [1.4319785 ],\n",
              "          ...,\n",
              "          [0.81274456],\n",
              "          [0.3870212 ],\n",
              "          [9.211104  ]],\n",
              "\n",
              "         ...,\n",
              "\n",
              "         [[1.0062551 ],\n",
              "          [1.0062551 ],\n",
              "          [1.0062551 ],\n",
              "          ...,\n",
              "          [0.15480849],\n",
              "          [0.07740425],\n",
              "          [0.03870212]],\n",
              "\n",
              "         [[1.0062551 ],\n",
              "          [1.0062551 ],\n",
              "          [1.0062551 ],\n",
              "          ...,\n",
              "          [0.03870212],\n",
              "          [0.        ],\n",
              "          [9.8690405 ]],\n",
              "\n",
              "         [[1.0062551 ],\n",
              "          [1.0062551 ],\n",
              "          [1.0062551 ],\n",
              "          ...,\n",
              "          [0.03870212],\n",
              "          [9.8690405 ],\n",
              "          [9.8303385 ]]],\n",
              "\n",
              "\n",
              "        [[[1.3545742 ],\n",
              "          [1.3545742 ],\n",
              "          [1.3545742 ],\n",
              "          ...,\n",
              "          [0.9288509 ],\n",
              "          [1.1997658 ],\n",
              "          [0.3870212 ]],\n",
              "\n",
              "         [[1.3545742 ],\n",
              "          [1.3545742 ],\n",
              "          [1.3545742 ],\n",
              "          ...,\n",
              "          [0.58053184],\n",
              "          [1.0449573 ],\n",
              "          [9.404615  ]],\n",
              "\n",
              "         [[1.3932763 ],\n",
              "          [1.4319785 ],\n",
              "          [1.4319785 ],\n",
              "          ...,\n",
              "          [0.7740424 ],\n",
              "          [0.3870212 ],\n",
              "          [9.211104  ]],\n",
              "\n",
              "         ...,\n",
              "\n",
              "         [[1.0062551 ],\n",
              "          [1.0062551 ],\n",
              "          [1.0062551 ],\n",
              "          ...,\n",
              "          [0.15480849],\n",
              "          [0.15480849],\n",
              "          [0.11610636]],\n",
              "\n",
              "         [[1.0062551 ],\n",
              "          [1.0062551 ],\n",
              "          [1.0062551 ],\n",
              "          ...,\n",
              "          [0.11610636],\n",
              "          [0.07740425],\n",
              "          [0.07740425]],\n",
              "\n",
              "         [[1.0062551 ],\n",
              "          [1.0062551 ],\n",
              "          [1.0062551 ],\n",
              "          ...,\n",
              "          [0.07740425],\n",
              "          [0.07740425],\n",
              "          [0.03870212]]]],\n",
              "\n",
              "\n",
              "\n",
              "       [[[[1.417392  ],\n",
              "          [1.3810487 ],\n",
              "          [1.417392  ],\n",
              "          ...,\n",
              "          [0.32709047],\n",
              "          [0.36343384],\n",
              "          [0.36343384]],\n",
              "\n",
              "         [[1.4537354 ],\n",
              "          [1.3810487 ],\n",
              "          [1.417392  ],\n",
              "          ...,\n",
              "          [0.32709047],\n",
              "          [0.36343384],\n",
              "          [0.36343384]],\n",
              "\n",
              "         [[1.4900788 ],\n",
              "          [1.4900788 ],\n",
              "          [1.417392  ],\n",
              "          ...,\n",
              "          [0.39977723],\n",
              "          [0.29074708],\n",
              "          [0.29074708]],\n",
              "\n",
              "         ...,\n",
              "\n",
              "         [[1.0539582 ],\n",
              "          [1.0539582 ],\n",
              "          [1.0539582 ],\n",
              "          ...,\n",
              "          [0.10903016],\n",
              "          [0.10903016],\n",
              "          [0.10903016]],\n",
              "\n",
              "         [[1.0539582 ],\n",
              "          [1.0539582 ],\n",
              "          [1.0539582 ],\n",
              "          ...,\n",
              "          [0.10903016],\n",
              "          [0.10903016],\n",
              "          [0.10903016]],\n",
              "\n",
              "         [[1.0539582 ],\n",
              "          [1.0539582 ],\n",
              "          [1.0539582 ],\n",
              "          ...,\n",
              "          [0.10903016],\n",
              "          [0.10903016],\n",
              "          [0.07268677]]],\n",
              "\n",
              "\n",
              "        [[[1.4537354 ],\n",
              "          [1.5264221 ],\n",
              "          [1.4537354 ],\n",
              "          ...,\n",
              "          [0.32709047],\n",
              "          [0.36343384],\n",
              "          [0.36343384]],\n",
              "\n",
              "         [[1.5991089 ],\n",
              "          [1.5627656 ],\n",
              "          [1.4537354 ],\n",
              "          ...,\n",
              "          [0.32709047],\n",
              "          [0.36343384],\n",
              "          [0.36343384]],\n",
              "\n",
              "         [[1.4900788 ],\n",
              "          [1.4900788 ],\n",
              "          [1.417392  ],\n",
              "          ...,\n",
              "          [0.29074708],\n",
              "          [0.29074708],\n",
              "          [0.29074708]],\n",
              "\n",
              "         ...,\n",
              "\n",
              "         [[1.0539582 ],\n",
              "          [1.0539582 ],\n",
              "          [1.0539582 ],\n",
              "          ...,\n",
              "          [0.10903016],\n",
              "          [0.07268677],\n",
              "          [0.07268677]],\n",
              "\n",
              "         [[1.0539582 ],\n",
              "          [1.0539582 ],\n",
              "          [1.0539582 ],\n",
              "          ...,\n",
              "          [0.07268677],\n",
              "          [0.07268677],\n",
              "          [0.07268677]],\n",
              "\n",
              "         [[1.0539582 ],\n",
              "          [1.0539582 ],\n",
              "          [1.0539582 ],\n",
              "          ...,\n",
              "          [0.07268677],\n",
              "          [0.07268677],\n",
              "          [0.07268677]]],\n",
              "\n",
              "\n",
              "        [[[1.4537354 ],\n",
              "          [1.5264221 ],\n",
              "          [1.5264221 ],\n",
              "          ...,\n",
              "          [0.29074708],\n",
              "          [0.32709047],\n",
              "          [0.32709047]],\n",
              "\n",
              "         [[1.5264221 ],\n",
              "          [1.5264221 ],\n",
              "          [1.4900788 ],\n",
              "          ...,\n",
              "          [0.29074708],\n",
              "          [0.32709047],\n",
              "          [0.32709047]],\n",
              "\n",
              "         [[1.4900788 ],\n",
              "          [1.4900788 ],\n",
              "          [1.417392  ],\n",
              "          ...,\n",
              "          [0.29074708],\n",
              "          [0.29074708],\n",
              "          [0.29074708]],\n",
              "\n",
              "         ...,\n",
              "\n",
              "         [[1.0539582 ],\n",
              "          [1.0539582 ],\n",
              "          [1.0539582 ],\n",
              "          ...,\n",
              "          [0.14537354],\n",
              "          [0.10903016],\n",
              "          [0.10903016]],\n",
              "\n",
              "         [[1.0539582 ],\n",
              "          [1.0539582 ],\n",
              "          [1.0539582 ],\n",
              "          ...,\n",
              "          [0.10903016],\n",
              "          [0.10903016],\n",
              "          [0.10903016]],\n",
              "\n",
              "         [[1.0539582 ],\n",
              "          [1.0539582 ],\n",
              "          [1.0539582 ],\n",
              "          ...,\n",
              "          [0.10903016],\n",
              "          [0.10903016],\n",
              "          [0.10903016]]],\n",
              "\n",
              "\n",
              "        ...,\n",
              "\n",
              "\n",
              "        [[[1.3447052 ],\n",
              "          [1.4537354 ],\n",
              "          [1.5991089 ],\n",
              "          ...,\n",
              "          [0.25440368],\n",
              "          [0.32709047],\n",
              "          [0.32709047]],\n",
              "\n",
              "         [[1.3447052 ],\n",
              "          [1.3810487 ],\n",
              "          [1.6717957 ],\n",
              "          ...,\n",
              "          [0.25440368],\n",
              "          [0.32709047],\n",
              "          [0.32709047]],\n",
              "\n",
              "         [[1.5264221 ],\n",
              "          [1.5264221 ],\n",
              "          [1.417392  ],\n",
              "          ...,\n",
              "          [0.29074708],\n",
              "          [0.29074708],\n",
              "          [0.29074708]],\n",
              "\n",
              "         ...,\n",
              "\n",
              "         [[1.0176147 ],\n",
              "          [0.9812714 ],\n",
              "          [0.9812714 ],\n",
              "          ...,\n",
              "          [0.07268677],\n",
              "          [0.07268677],\n",
              "          [0.07268677]],\n",
              "\n",
              "         [[1.0176147 ],\n",
              "          [1.0176147 ],\n",
              "          [0.9812714 ],\n",
              "          ...,\n",
              "          [0.07268677],\n",
              "          [0.07268677],\n",
              "          [0.07268677]],\n",
              "\n",
              "         [[1.0176147 ],\n",
              "          [1.0176147 ],\n",
              "          [1.0176147 ],\n",
              "          ...,\n",
              "          [0.07268677],\n",
              "          [0.07268677],\n",
              "          [0.03634338]]],\n",
              "\n",
              "\n",
              "        [[[1.5264221 ],\n",
              "          [1.4900788 ],\n",
              "          [1.4900788 ],\n",
              "          ...,\n",
              "          [0.21806031],\n",
              "          [0.21806031],\n",
              "          [0.21806031]],\n",
              "\n",
              "         [[1.4900788 ],\n",
              "          [1.3810487 ],\n",
              "          [1.5264221 ],\n",
              "          ...,\n",
              "          [0.21806031],\n",
              "          [0.21806031],\n",
              "          [0.21806031]],\n",
              "\n",
              "         [[1.5264221 ],\n",
              "          [1.5264221 ],\n",
              "          [1.417392  ],\n",
              "          ...,\n",
              "          [0.32709047],\n",
              "          [0.32709047],\n",
              "          [0.32709047]],\n",
              "\n",
              "         ...,\n",
              "\n",
              "         [[0.9812714 ],\n",
              "          [0.9812714 ],\n",
              "          [0.9812714 ],\n",
              "          ...,\n",
              "          [0.07268677],\n",
              "          [0.07268677],\n",
              "          [0.07268677]],\n",
              "\n",
              "         [[1.0176147 ],\n",
              "          [0.9812714 ],\n",
              "          [0.9812714 ],\n",
              "          ...,\n",
              "          [0.07268677],\n",
              "          [0.07268677],\n",
              "          [0.07268677]],\n",
              "\n",
              "         [[1.0176147 ],\n",
              "          [1.0176147 ],\n",
              "          [0.9812714 ],\n",
              "          ...,\n",
              "          [0.07268677],\n",
              "          [0.07268677],\n",
              "          [0.07268677]]],\n",
              "\n",
              "\n",
              "        [[[1.417392  ],\n",
              "          [1.4900788 ],\n",
              "          [1.4537354 ],\n",
              "          ...,\n",
              "          [0.21806031],\n",
              "          [0.21806031],\n",
              "          [0.21806031]],\n",
              "\n",
              "         [[1.3810487 ],\n",
              "          [1.417392  ],\n",
              "          [1.5991089 ],\n",
              "          ...,\n",
              "          [0.21806031],\n",
              "          [0.21806031],\n",
              "          [0.21806031]],\n",
              "\n",
              "         [[1.4900788 ],\n",
              "          [1.4900788 ],\n",
              "          [1.4537354 ],\n",
              "          ...,\n",
              "          [0.32709047],\n",
              "          [0.29074708],\n",
              "          [0.29074708]],\n",
              "\n",
              "         ...,\n",
              "\n",
              "         [[1.0176147 ],\n",
              "          [1.0176147 ],\n",
              "          [1.0176147 ],\n",
              "          ...,\n",
              "          [0.07268677],\n",
              "          [0.07268677],\n",
              "          [0.07268677]],\n",
              "\n",
              "         [[1.0539582 ],\n",
              "          [1.0176147 ],\n",
              "          [1.0176147 ],\n",
              "          ...,\n",
              "          [0.10903016],\n",
              "          [0.07268677],\n",
              "          [0.07268677]],\n",
              "\n",
              "         [[1.0539582 ],\n",
              "          [1.0539582 ],\n",
              "          [1.0176147 ],\n",
              "          ...,\n",
              "          [0.10903016],\n",
              "          [0.07268677],\n",
              "          [0.07268677]]]]], dtype=float32)"
            ]
          },
          "execution_count": 29,
          "metadata": {},
          "output_type": "execute_result"
        }
      ],
      "source": [
        "val = sample.next(); val[0]"
      ]
    },
    {
      "cell_type": "code",
      "execution_count": 30,
      "id": "0T1A6XZOORPX",
      "metadata": {
        "colab": {
          "base_uri": "https://localhost:8080/"
        },
        "id": "0T1A6XZOORPX",
        "outputId": "1a5567fe-1b40-486d-8232-ba9a0bd9dfae"
      },
      "outputs": [
        {
          "name": "stdout",
          "output_type": "stream",
          "text": [
            "<class 'numpy.ndarray'>\n"
          ]
        }
      ],
      "source": [
        "print(type(val[0][0]))"
      ]
    },
    {
      "cell_type": "code",
      "execution_count": 31,
      "id": "e7sHWHp4PkOj",
      "metadata": {
        "id": "e7sHWHp4PkOj"
      },
      "outputs": [],
      "source": [
        "arr_to_save = val[0][0]\n",
        "arr_to_save = (arr_to_save * 255).astype(np.uint8)"
      ]
    },
    {
      "cell_type": "code",
      "execution_count": 32,
      "id": "UzcWWkEaQJcu",
      "metadata": {
        "id": "UzcWWkEaQJcu"
      },
      "outputs": [],
      "source": [
        "import imageio\n",
        "import numpy as np\n",
        "\n",
        "# Val is a tuple containing NumPy arrays\n",
        "arr_to_save = val[0][0]\n",
        "\n",
        "# Squeeze the unnecessary dimensions\n",
        "arr_to_save = np.squeeze(arr_to_save)\n",
        "\n",
        "# Normalize the array to the range [0, 255]\n",
        "normalized_array = ((arr_to_save - arr_to_save.min()) / (arr_to_save.max() - arr_to_save.min()) * 255).astype(np.uint8)\n",
        "\n",
        "# Create a list of frames for the GIF\n",
        "frames_list = [normalized_array[i] for i in range(normalized_array.shape[0])]\n",
        "\n"
      ]
    },
    {
      "cell_type": "code",
      "execution_count": 33,
      "id": "acf5eb4f-a0da-4a9a-bf24-af13e9cc2fbe",
      "metadata": {
        "id": "acf5eb4f-a0da-4a9a-bf24-af13e9cc2fbe",
        "tags": []
      },
      "outputs": [],
      "source": [
        "# Save the GIF\n",
        "imageio.mimsave('./animation.gif', frames_list, fps=10)"
      ]
    },
    {
      "cell_type": "code",
      "execution_count": 34,
      "id": "c33a87a2-d5e0-4ec9-b174-73ebf41bf03a",
      "metadata": {
        "colab": {
          "base_uri": "https://localhost:8080/",
          "height": 244
        },
        "id": "c33a87a2-d5e0-4ec9-b174-73ebf41bf03a",
        "outputId": "4bbd10e5-7ecb-4a34-b41c-4ed7b96f4063",
        "tags": []
      },
      "outputs": [
        {
          "data": {
            "text/plain": [
              "<matplotlib.image.AxesImage at 0x7e6a4007c310>"
            ]
          },
          "execution_count": 34,
          "metadata": {},
          "output_type": "execute_result"
        },
        {
          "data": {
            "image/png": "[encoded data removed]",
            "text/plain": [
              "<Figure size 640x480 with 1 Axes>"
            ]
          },
          "metadata": {},
          "output_type": "display_data"
        }
      ],
      "source": [
        "# 0:videos, 0: 1st video out of the batch,  0: return the first frame in the video\n",
        "plt.imshow(val[0][0][35])"
      ]
    },
    {
      "cell_type": "code",
      "execution_count": 35,
      "id": "84593332-133c-4205-b7a6-8e235d5e2b3b",
      "metadata": {
        "colab": {
          "base_uri": "https://localhost:8080/"
        },
        "id": "84593332-133c-4205-b7a6-8e235d5e2b3b",
        "outputId": "9c5d9d03-1b55-43b1-e846-4700f43f0938",
        "tags": []
      },
      "outputs": [
        {
          "data": {
            "text/plain": [
              "<tf.Tensor: shape=(), dtype=string, numpy=b'bin red at m five again'>"
            ]
          },
          "execution_count": 35,
          "metadata": {},
          "output_type": "execute_result"
        }
      ],
      "source": [
        "tf.strings.reduce_join([num_to_char(word) for word in val[1][0]])"
      ]
    },
    {
      "cell_type": "markdown",
      "id": "0f47733c-83bc-465c-b118-b198b492ad37",
      "metadata": {
        "id": "0f47733c-83bc-465c-b118-b198b492ad37",
        "tags": []
      },
      "source": [
        "# 3. Design the Deep Neural Network"
      ]
    },
    {
      "cell_type": "code",
      "execution_count": 36,
      "id": "d8e9a497-191b-4842-afbd-26f5e13c43ba",
      "metadata": {
        "id": "d8e9a497-191b-4842-afbd-26f5e13c43ba",
        "tags": []
      },
      "outputs": [],
      "source": [
        "from tensorflow.keras.models import Sequential\n",
        "from tensorflow.keras.layers import Conv3D, LSTM, Dense, Dropout, Bidirectional, MaxPool3D, Activation, Reshape, SpatialDropout3D, BatchNormalization, TimeDistributed, Flatten\n",
        "from tensorflow.keras.optimizers import Adam\n",
        "from tensorflow.keras.callbacks import ModelCheckpoint, LearningRateScheduler"
      ]
    },
    {
      "cell_type": "code",
      "execution_count": 37,
      "id": "3f753ed2-70b9-4236-8c1c-08ca065dc8bf",
      "metadata": {
        "colab": {
          "base_uri": "https://localhost:8080/"
        },
        "id": "3f753ed2-70b9-4236-8c1c-08ca065dc8bf",
        "outputId": "a5b13f00-baea-4299-b8aa-fc2b45f024c8"
      },
      "outputs": [
        {
          "data": {
            "text/plain": [
              "(75, 46, 140, 1)"
            ]
          },
          "execution_count": 37,
          "metadata": {},
          "output_type": "execute_result"
        }
      ],
      "source": [
        "data.as_numpy_iterator().next()[0][0].shape"
      ]
    },
    {
      "cell_type": "code",
      "execution_count": 38,
      "id": "f9171056-a352-491a-9ed9-92b28ced268e",
      "metadata": {
        "id": "f9171056-a352-491a-9ed9-92b28ced268e",
        "tags": []
      },
      "outputs": [],
      "source": [
        "model = Sequential()\n",
        "model.add(Conv3D(128, 3, input_shape=(75,46,140,1), padding='same'))\n",
        "model.add(Activation('relu'))\n",
        "model.add(MaxPool3D((1,2,2)))\n",
        "\n",
        "model.add(Conv3D(256, 3, padding='same'))\n",
        "model.add(Activation('relu'))\n",
        "model.add(MaxPool3D((1,2,2)))\n",
        "\n",
        "model.add(Conv3D(75, 3, padding='same'))\n",
        "model.add(Activation('relu'))\n",
        "model.add(MaxPool3D((1,2,2)))\n",
        "\n",
        "model.add(TimeDistributed(Flatten()))\n",
        "\n",
        "model.add(Bidirectional(LSTM(128, kernel_initializer='Orthogonal', return_sequences=True)))\n",
        "model.add(Dropout(.5))\n",
        "\n",
        "model.add(Bidirectional(LSTM(128, kernel_initializer='Orthogonal', return_sequences=True)))\n",
        "model.add(Dropout(.5))\n",
        "\n",
        "model.add(Dense(char_to_num.vocabulary_size()+1, kernel_initializer='he_normal', activation='softmax'))"
      ]
    },
    {
      "cell_type": "code",
      "execution_count": 39,
      "id": "78851825-2bcd-42a9-b7f2-28bb5a6bf43a",
      "metadata": {
        "colab": {
          "base_uri": "https://localhost:8080/"
        },
        "collapsed": true,
        "id": "78851825-2bcd-42a9-b7f2-28bb5a6bf43a",
        "jupyter": {
          "outputs_hidden": true
        },
        "outputId": "e2e4786c-28cb-4253-ab9f-c0a62f1a9d0d",
        "tags": []
      },
      "outputs": [
        {
          "name": "stdout",
          "output_type": "stream",
          "text": [
            "Model: \"sequential\"\n",
            "_________________________________________________________________\n",
            " Layer (type)                Output Shape              Param #   \n",
            "=================================================================\n",
            " conv3d (Conv3D)             (None, 75, 46, 140, 128   3584      \n",
            "                             )                                   \n",
            "                                                                 \n",
            " activation (Activation)     (None, 75, 46, 140, 128   0         \n",
            "                             )                                   \n",
            "                                                                 \n",
            " max_pooling3d (MaxPooling3  (None, 75, 23, 70, 128)   0         \n",
            " D)                                                              \n",
            "                                                                 \n",
            " conv3d_1 (Conv3D)           (None, 75, 23, 70, 256)   884992    \n",
            "                                                                 \n",
            " activation_1 (Activation)   (None, 75, 23, 70, 256)   0         \n",
            "                                                                 \n",
            " max_pooling3d_1 (MaxPoolin  (None, 75, 11, 35, 256)   0         \n",
            " g3D)                                                            \n",
            "                                                                 \n",
            " conv3d_2 (Conv3D)           (None, 75, 11, 35, 75)    518475    \n",
            "                                                                 \n",
            " activation_2 (Activation)   (None, 75, 11, 35, 75)    0         \n",
            "                                                                 \n",
            " max_pooling3d_2 (MaxPoolin  (None, 75, 5, 17, 75)     0         \n",
            " g3D)                                                            \n",
            "                                                                 \n",
            " time_distributed (TimeDist  (None, 75, 6375)          0         \n",
            " ributed)                                                        \n",
            "                                                                 \n",
            " bidirectional (Bidirection  (None, 75, 256)           6660096   \n",
            " al)                                                             \n",
            "                                                                 \n",
            " dropout (Dropout)           (None, 75, 256)           0         \n",
            "                                                                 \n",
            " bidirectional_1 (Bidirecti  (None, 75, 256)           394240    \n",
            " onal)                                                           \n",
            "                                                                 \n",
            " dropout_1 (Dropout)         (None, 75, 256)           0         \n",
            "                                                                 \n",
            " dense (Dense)               (None, 75, 41)            10537     \n",
            "                                                                 \n",
            "=================================================================\n",
            "Total params: 8471924 (32.32 MB)\n",
            "Trainable params: 8471924 (32.32 MB)\n",
            "Non-trainable params: 0 (0.00 Byte)\n",
            "_________________________________________________________________\n"
          ]
        }
      ],
      "source": [
        "model.summary()"
      ]
    },
    {
      "cell_type": "code",
      "execution_count": 40,
      "id": "f4b4798c-a65a-4c47-9e2a-3b09dc98d320",
      "metadata": {
        "colab": {
          "base_uri": "https://localhost:8080/"
        },
        "id": "f4b4798c-a65a-4c47-9e2a-3b09dc98d320",
        "outputId": "a73d4646-ff05-4b72-bc87-9d11fab69a75"
      },
      "outputs": [
        {
          "data": {
            "text/plain": [
              "6375"
            ]
          },
          "execution_count": 40,
          "metadata": {},
          "output_type": "execute_result"
        }
      ],
      "source": [
        "5*17*75"
      ]
    },
    {
      "cell_type": "code",
      "execution_count": 41,
      "id": "e5c2eae0-c359-41a4-97a0-75c44dccb7d1",
      "metadata": {
        "colab": {
          "base_uri": "https://localhost:8080/"
        },
        "id": "e5c2eae0-c359-41a4-97a0-75c44dccb7d1",
        "outputId": "315f313f-93f0-4713-bc50-5de8d951a691",
        "tags": []
      },
      "outputs": [
        {
          "name": "stdout",
          "output_type": "stream",
          "text": [
            "1/1 [==============================] - 7s 7s/step\n"
          ]
        }
      ],
      "source": [
        "yhat = model.predict(val[0])"
      ]
    },
    {
      "cell_type": "code",
      "execution_count": 42,
      "id": "ffdc7319-0d69-4f7e-a6d4-ce72deb81c0b",
      "metadata": {
        "colab": {
          "base_uri": "https://localhost:8080/"
        },
        "id": "ffdc7319-0d69-4f7e-a6d4-ce72deb81c0b",
        "outputId": "505f183c-d96e-4f37-a77e-42cad45d9cba"
      },
      "outputs": [
        {
          "data": {
            "text/plain": [
              "<tf.Tensor: shape=(), dtype=string, numpy=b\"'''''''''''''''''''''''''''''''''''''''''''''''''''''''''''''''''''''''''''\">"
            ]
          },
          "execution_count": 42,
          "metadata": {},
          "output_type": "execute_result"
        }
      ],
      "source": [
        "tf.strings.reduce_join([num_to_char(x) for x in tf.argmax(yhat[0],axis=1)])"
      ]
    },
    {
      "cell_type": "code",
      "execution_count": 43,
      "id": "6ed47531-8317-4255-9a12-b757642258e6",
      "metadata": {
        "colab": {
          "base_uri": "https://localhost:8080/"
        },
        "id": "6ed47531-8317-4255-9a12-b757642258e6",
        "outputId": "cf7028bf-efd0-4c7b-b3db-ee88559a90db",
        "tags": []
      },
      "outputs": [
        {
          "data": {
            "text/plain": [
              "<tf.Tensor: shape=(), dtype=string, numpy=b\"'''''''''''''''''''''''''''''''''''''''''''''''''''''''''''''''''''''''''''\">"
            ]
          },
          "execution_count": 43,
          "metadata": {},
          "output_type": "execute_result"
        }
      ],
      "source": [
        "tf.strings.reduce_join([num_to_char(tf.argmax(x)) for x in yhat[0]])"
      ]
    },
    {
      "cell_type": "code",
      "execution_count": 44,
      "id": "7c37b9b9-5298-4038-9c33-5031d1b457f0",
      "metadata": {
        "colab": {
          "base_uri": "https://localhost:8080/"
        },
        "id": "7c37b9b9-5298-4038-9c33-5031d1b457f0",
        "outputId": "c0d06d8c-4377-4567-98ed-758ac3535a6e",
        "tags": []
      },
      "outputs": [
        {
          "data": {
            "text/plain": [
              "(None, 75, 46, 140, 1)"
            ]
          },
          "execution_count": 44,
          "metadata": {},
          "output_type": "execute_result"
        }
      ],
      "source": [
        "model.input_shape"
      ]
    },
    {
      "cell_type": "code",
      "execution_count": 45,
      "id": "98b316a4-5322-4782-8e36-4b3c1a696d85",
      "metadata": {
        "colab": {
          "base_uri": "https://localhost:8080/"
        },
        "id": "98b316a4-5322-4782-8e36-4b3c1a696d85",
        "outputId": "f43712a9-6716-4ae0-f454-b0f3b1d9e551",
        "tags": []
      },
      "outputs": [
        {
          "data": {
            "text/plain": [
              "(None, 75, 41)"
            ]
          },
          "execution_count": 45,
          "metadata": {},
          "output_type": "execute_result"
        }
      ],
      "source": [
        "model.output_shape"
      ]
    },
    {
      "cell_type": "markdown",
      "id": "2ec02176-5c26-46c3-aff7-8352e6563c7d",
      "metadata": {
        "id": "2ec02176-5c26-46c3-aff7-8352e6563c7d",
        "tags": []
      },
      "source": [
        "# 4. Setup Training Options and Train"
      ]
    },
    {
      "cell_type": "code",
      "execution_count": 46,
      "id": "ab015fd0-7fb4-4d5d-9fa2-30a05dbd515a",
      "metadata": {
        "id": "ab015fd0-7fb4-4d5d-9fa2-30a05dbd515a",
        "tags": []
      },
      "outputs": [],
      "source": [
        "def scheduler(epoch, lr):\n",
        "    if epoch < 30:\n",
        "        return lr\n",
        "    else:\n",
        "        return lr * tf.math.exp(-0.1)"
      ]
    },
    {
      "cell_type": "code",
      "execution_count": 47,
      "id": "c564d5c9-db54-4e88-b311-9aeab7fb3e69",
      "metadata": {
        "id": "c564d5c9-db54-4e88-b311-9aeab7fb3e69",
        "tags": []
      },
      "outputs": [],
      "source": [
        "def CTCLoss(y_true, y_pred):\n",
        "    batch_len = tf.cast(tf.shape(y_true)[0], dtype=\"int64\")\n",
        "    input_length = tf.cast(tf.shape(y_pred)[1], dtype=\"int64\")\n",
        "    label_length = tf.cast(tf.shape(y_true)[1], dtype=\"int64\")\n",
        "\n",
        "    input_length = input_length * tf.ones(shape=(batch_len, 1), dtype=\"int64\")\n",
        "    label_length = label_length * tf.ones(shape=(batch_len, 1), dtype=\"int64\")\n",
        "\n",
        "    loss = tf.keras.backend.ctc_batch_cost(y_true, y_pred, input_length, label_length)\n",
        "    return loss"
      ]
    },
    {
      "cell_type": "code",
      "execution_count": 48,
      "id": "a26dc3fc-a19c-4378-bd8c-e2b597a1d15c",
      "metadata": {
        "id": "a26dc3fc-a19c-4378-bd8c-e2b597a1d15c",
        "tags": []
      },
      "outputs": [],
      "source": [
        "class ProduceExample(tf.keras.callbacks.Callback):\n",
        "    def __init__(self, dataset) -> None:\n",
        "        self.dataset = dataset.as_numpy_iterator()\n",
        "\n",
        "    def on_epoch_end(self, epoch, logs=None) -> None:\n",
        "        data = self.dataset.next()\n",
        "        yhat = self.model.predict(data[0])\n",
        "        decoded = tf.keras.backend.ctc_decode(yhat, [75,75], greedy=False)[0][0].numpy()\n",
        "        for x in range(len(yhat)):\n",
        "            print('Original:', tf.strings.reduce_join(num_to_char(data[1][x])).numpy().decode('utf-8'))\n",
        "            print('Prediction:', tf.strings.reduce_join(num_to_char(decoded[x])).numpy().decode('utf-8'))\n",
        "            print('~'*100)"
      ]
    },
    {
      "cell_type": "code",
      "execution_count": 49,
      "id": "04be90d8-2482-46f9-b513-d5f4f8001c7e",
      "metadata": {
        "id": "04be90d8-2482-46f9-b513-d5f4f8001c7e",
        "tags": []
      },
      "outputs": [],
      "source": [
        "model.compile(optimizer=Adam(learning_rate=0.0001), loss=CTCLoss)"
      ]
    },
    {
      "cell_type": "code",
      "execution_count": 50,
      "id": "eab49367-3f1e-4464-ae76-dbd07549d97e",
      "metadata": {
        "id": "eab49367-3f1e-4464-ae76-dbd07549d97e",
        "tags": []
      },
      "outputs": [],
      "source": [
        "checkpoint_callback = ModelCheckpoint(os.path.join('models','checkpoint'), monitor='loss', save_weights_only=True)"
      ]
    },
    {
      "cell_type": "code",
      "execution_count": 51,
      "id": "e085a632-d464-46ef-8777-959cad4adb2c",
      "metadata": {
        "id": "e085a632-d464-46ef-8777-959cad4adb2c",
        "tags": []
      },
      "outputs": [],
      "source": [
        "schedule_callback = LearningRateScheduler(scheduler)"
      ]
    },
    {
      "cell_type": "code",
      "execution_count": 52,
      "id": "48eca991-90ab-4592-8a79-b50e9ca015b6",
      "metadata": {
        "id": "48eca991-90ab-4592-8a79-b50e9ca015b6",
        "tags": []
      },
      "outputs": [],
      "source": [
        "example_callback = ProduceExample(test)"
      ]
    },
    {
      "cell_type": "code",
      "execution_count": 53,
      "id": "8ffba483-aa61-4bbe-a15f-a73e1ddf097c",
      "metadata": {
        "id": "8ffba483-aa61-4bbe-a15f-a73e1ddf097c",
        "tags": []
      },
      "outputs": [],
      "source": [
        "#model.fit(train, validation_data=test, epochs=10, callbacks=[checkpoint_callback, schedule_callback, example_callback])"
      ]
    },
    {
      "cell_type": "markdown",
      "id": "fa8ee94b-89f7-4733-8a0c-a86f86ff590a",
      "metadata": {
        "id": "fa8ee94b-89f7-4733-8a0c-a86f86ff590a",
        "tags": []
      },
      "source": [
        "# 5. Make a Prediction"
      ]
    },
    {
      "cell_type": "code",
      "execution_count": 54,
      "id": "01fa7204-ce0e-49a8-8dbd-14fe5dfead40",
      "metadata": {
        "colab": {
          "base_uri": "https://localhost:8080/"
        },
        "id": "01fa7204-ce0e-49a8-8dbd-14fe5dfead40",
        "outputId": "f5c28522-07ca-4040-ae4a-8b41c0885434",
        "tags": []
      },
      "outputs": [
        {
          "name": "stderr",
          "output_type": "stream",
          "text": [
            "Downloading...\n",
            "From (original): https://drive.google.com/uc?id=1vWscXs4Vt0a_1IH1-ct2TCgXAZT-N3_Y\n",
            "From (redirected): https://drive.google.com/uc?id=1vWscXs4Vt0a_1IH1-ct2TCgXAZT-N3_Y&confirm=t&uuid=8170b645-107b-4bac-951e-ff71fac761c5\n",
            "To: /content/checkpoints.zip\n",
            "100%|██████████| 94.5M/94.5M [00:00<00:00, 115MB/s]\n"
          ]
        },
        {
          "data": {
            "text/plain": [
              "['models/checkpoint.index',\n",
              " 'models/__MACOSX/._checkpoint.index',\n",
              " 'models/checkpoint.data-00000-of-00001',\n",
              " 'models/__MACOSX/._checkpoint.data-00000-of-00001',\n",
              " 'models/checkpoint',\n",
              " 'models/__MACOSX/._checkpoint']"
            ]
          },
          "execution_count": 54,
          "metadata": {},
          "output_type": "execute_result"
        }
      ],
      "source": [
        "url = 'https://drive.google.com/uc?id=1vWscXs4Vt0a_1IH1-ct2TCgXAZT-N3_Y'\n",
        "output = 'checkpoints.zip'\n",
        "gdown.download(url, output, quiet=False)\n",
        "gdown.extractall('checkpoints.zip', 'models')"
      ]
    },
    {
      "cell_type": "code",
      "execution_count": null,
      "id": "LhNRke4m849y",
      "metadata": {
        "colab": {
          "base_uri": "https://localhost:8080/"
        },
        "id": "LhNRke4m849y",
        "outputId": "db39c09e-1c49-4fcb-efda-2b94f009a732"
      },
      "outputs": [
        {
          "data": {
            "text/plain": [
              "<tensorflow.python.checkpoint.checkpoint.CheckpointLoadStatus at 0x7e6a4029f1c0>"
            ]
          },
          "execution_count": 56,
          "metadata": {},
          "output_type": "execute_result"
        }
      ],
      "source": [
        "from tensorflow.keras.optimizers import legacy\n",
        "\n",
        "# Change it to the legacy optimizer\n",
        "original_optimizer = legacy.Adam(learning_rate=0.001)\n",
        "\n",
        "# Compile model the optimizer\n",
        "model.compile(optimizer=original_optimizer, loss=CTCLoss)\n",
        "\n",
        "# Load weights\n",
        "model.load_weights('models/checkpoint')\n"
      ]
    },
    {
      "cell_type": "code",
      "execution_count": 57,
      "id": "7f8d689f-b7bb-443c-9b88-e40c1d800828",
      "metadata": {
        "id": "7f8d689f-b7bb-443c-9b88-e40c1d800828",
        "tags": []
      },
      "outputs": [],
      "source": [
        "test_data = test.as_numpy_iterator()"
      ]
    },
    {
      "cell_type": "code",
      "execution_count": 58,
      "id": "38546dc2-bee9-4837-864b-8a884df40ad7",
      "metadata": {
        "id": "38546dc2-bee9-4837-864b-8a884df40ad7",
        "tags": []
      },
      "outputs": [],
      "source": [
        "sample = test_data.next()"
      ]
    },
    {
      "cell_type": "code",
      "execution_count": 59,
      "id": "a43621f0-229d-4c0d-9554-9c3a3da9c61a",
      "metadata": {
        "colab": {
          "base_uri": "https://localhost:8080/"
        },
        "id": "a43621f0-229d-4c0d-9554-9c3a3da9c61a",
        "outputId": "ffbf3d38-39dd-4195-cddf-df7fd0c69f37",
        "tags": []
      },
      "outputs": [
        {
          "name": "stdout",
          "output_type": "stream",
          "text": [
            "1/1 [==============================] - 2s 2s/step\n"
          ]
        }
      ],
      "source": [
        "yhat = model.predict(sample[0])"
      ]
    },
    {
      "cell_type": "code",
      "execution_count": 60,
      "id": "ea462999-f87e-4a7e-a057-5be7b6d8f7d5",
      "metadata": {
        "colab": {
          "base_uri": "https://localhost:8080/"
        },
        "id": "ea462999-f87e-4a7e-a057-5be7b6d8f7d5",
        "outputId": "2406175b-2a88-435f-fcbd-f8231ec299e4",
        "tags": []
      },
      "outputs": [
        {
          "name": "stdout",
          "output_type": "stream",
          "text": [
            "~~~~~~~~~~~~~~~~~~~~~~~~~~~~~~~~~~~~~~~~~~~~~~~~~~~~~~~~~~~~~~~~~~~~~~~~~~~~~~~~~~~~~~~~~~~~~~~~~~~~ REAL TEXT\n"
          ]
        },
        {
          "data": {
            "text/plain": [
              "[<tf.Tensor: shape=(), dtype=string, numpy=b'place green in j eight now'>,\n",
              " <tf.Tensor: shape=(), dtype=string, numpy=b'set blue at h one again'>]"
            ]
          },
          "execution_count": 60,
          "metadata": {},
          "output_type": "execute_result"
        }
      ],
      "source": [
        "print('~'*100, 'REAL TEXT')\n",
        "[tf.strings.reduce_join([num_to_char(word) for word in sentence]) for sentence in sample[1]]"
      ]
    },
    {
      "cell_type": "code",
      "execution_count": 61,
      "id": "82bd4c10-dd6e-411e-834b-2a3b43fd12c5",
      "metadata": {
        "id": "82bd4c10-dd6e-411e-834b-2a3b43fd12c5",
        "tags": []
      },
      "outputs": [],
      "source": [
        "decoded = tf.keras.backend.ctc_decode(yhat, input_length=[75,75], greedy=True)[0][0].numpy()"
      ]
    },
    {
      "cell_type": "code",
      "execution_count": 62,
      "id": "5d68ac46-c90b-4eab-a709-f19aee569ff5",
      "metadata": {
        "colab": {
          "base_uri": "https://localhost:8080/"
        },
        "id": "5d68ac46-c90b-4eab-a709-f19aee569ff5",
        "outputId": "99add3c0-e3ff-45fe-8c8c-d8159f0c5204",
        "tags": []
      },
      "outputs": [
        {
          "name": "stdout",
          "output_type": "stream",
          "text": [
            "~~~~~~~~~~~~~~~~~~~~~~~~~~~~~~~~~~~~~~~~~~~~~~~~~~~~~~~~~~~~~~~~~~~~~~~~~~~~~~~~~~~~~~~~~~~~~~~~~~~~ PREDICTIONS\n"
          ]
        },
        {
          "data": {
            "text/plain": [
              "[<tf.Tensor: shape=(), dtype=string, numpy=b'place green in j eight now'>,\n",
              " <tf.Tensor: shape=(), dtype=string, numpy=b'set blue at h one again'>]"
            ]
          },
          "execution_count": 62,
          "metadata": {},
          "output_type": "execute_result"
        }
      ],
      "source": [
        "print('~'*100, 'PREDICTIONS')\n",
        "[tf.strings.reduce_join([num_to_char(word) for word in sentence]) for sentence in decoded]"
      ]
    },
    {
      "cell_type": "markdown",
      "id": "64622f98-e99b-4fed-a2cc-f0da82eb5431",
      "metadata": {
        "id": "64622f98-e99b-4fed-a2cc-f0da82eb5431"
      },
      "source": [
        "# Test on a Video"
      ]
    },
    {
      "cell_type": "code",
      "execution_count": 64,
      "id": "a8b0c4d0-2031-4331-b91d-d87b1ae6f6e2",
      "metadata": {
        "id": "a8b0c4d0-2031-4331-b91d-d87b1ae6f6e2"
      },
      "outputs": [],
      "source": [
        "sample = load_data(tf.convert_to_tensor('./data/s1/bras9a.mpg'))"
      ]
    },
    {
      "cell_type": "code",
      "execution_count": 65,
      "id": "0cca60e4-47a9-4683-8a75-48f4684f723d",
      "metadata": {
        "colab": {
          "base_uri": "https://localhost:8080/"
        },
        "id": "0cca60e4-47a9-4683-8a75-48f4684f723d",
        "outputId": "f07caa70-5767-4ac4-c3ce-844da51b9d7d"
      },
      "outputs": [
        {
          "name": "stdout",
          "output_type": "stream",
          "text": [
            "~~~~~~~~~~~~~~~~~~~~~~~~~~~~~~~~~~~~~~~~~~~~~~~~~~~~~~~~~~~~~~~~~~~~~~~~~~~~~~~~~~~~~~~~~~~~~~~~~~~~ REAL TEXT\n"
          ]
        },
        {
          "data": {
            "text/plain": [
              "[<tf.Tensor: shape=(), dtype=string, numpy=b'bin red at s nine again'>]"
            ]
          },
          "execution_count": 65,
          "metadata": {},
          "output_type": "execute_result"
        }
      ],
      "source": [
        "print('~'*100, 'REAL TEXT')\n",
        "[tf.strings.reduce_join([num_to_char(word) for word in sentence]) for sentence in [sample[1]]]"
      ]
    },
    {
      "cell_type": "code",
      "execution_count": 66,
      "id": "8cc5037c-1e32-435c-b0cc-01e1fb3b863c",
      "metadata": {
        "colab": {
          "base_uri": "https://localhost:8080/"
        },
        "id": "8cc5037c-1e32-435c-b0cc-01e1fb3b863c",
        "outputId": "11746916-fdd9-4ba5-c132-3bf0f3168039"
      },
      "outputs": [
        {
          "name": "stdout",
          "output_type": "stream",
          "text": [
            "1/1 [==============================] - 1s 1s/step\n"
          ]
        }
      ],
      "source": [
        "yhat = model.predict(tf.expand_dims(sample[0], axis=0))"
      ]
    },
    {
      "cell_type": "code",
      "execution_count": 67,
      "id": "22c4f77d-715d-409f-bc5e-3ebe48704e8f",
      "metadata": {
        "id": "22c4f77d-715d-409f-bc5e-3ebe48704e8f"
      },
      "outputs": [],
      "source": [
        "decoded = tf.keras.backend.ctc_decode(yhat, input_length=[75], greedy=True)[0][0].numpy()"
      ]
    },
    {
      "cell_type": "code",
      "execution_count": 68,
      "id": "e4d12ecc-b634-499e-a4bc-db9f010835fb",
      "metadata": {
        "colab": {
          "base_uri": "https://localhost:8080/"
        },
        "id": "e4d12ecc-b634-499e-a4bc-db9f010835fb",
        "outputId": "cfc75c21-dbe3-4332-bed3-0c89a8e8c449"
      },
      "outputs": [
        {
          "name": "stdout",
          "output_type": "stream",
          "text": [
            "~~~~~~~~~~~~~~~~~~~~~~~~~~~~~~~~~~~~~~~~~~~~~~~~~~~~~~~~~~~~~~~~~~~~~~~~~~~~~~~~~~~~~~~~~~~~~~~~~~~~ PREDICTIONS\n"
          ]
        },
        {
          "data": {
            "text/plain": [
              "[<tf.Tensor: shape=(), dtype=string, numpy=b'bin red at s nine again'>]"
            ]
          },
          "execution_count": 68,
          "metadata": {},
          "output_type": "execute_result"
        }
      ],
      "source": [
        "print('~'*100, 'PREDICTIONS')\n",
        "[tf.strings.reduce_join([num_to_char(word) for word in sentence]) for sentence in decoded]"
      ]
    },
    {
      "cell_type": "code",
      "execution_count": null,
      "id": "551dfea2-de6b-4400-b71a-a17631529e3f",
      "metadata": {
        "id": "551dfea2-de6b-4400-b71a-a17631529e3f"
      },
      "outputs": [],
      "source": []
    },
    {
      "cell_type": "code",
      "execution_count": null,
      "id": "fa95863d-3832-47bf-8a77-ebaa38054ace",
      "metadata": {
        "id": "fa95863d-3832-47bf-8a77-ebaa38054ace"
      },
      "outputs": [],
      "source": []
    }
  ],
  "metadata": {
    "accelerator": "GPU",
    "colab": {
      "gpuType": "T4",
      "provenance": []
    },
    "kernelspec": {
      "display_name": "lips",
      "language": "python",
      "name": "lips"
    },
    "language_info": {
      "codemirror_mode": {
        "name": "ipython",
        "version": 3
      },
      "file_extension": ".py",
      "mimetype": "text/x-python",
      "name": "python",
      "nbconvert_exporter": "python",
      "pygments_lexer": "ipython3",
      "version": "3.9.12"
    }
  },
  "nbformat": 4,
  "nbformat_minor": 5
}
